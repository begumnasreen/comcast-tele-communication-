{
  "cells": [
    {
      "cell_type": "markdown",
      "metadata": {
        "id": "oKe52aHVEeMY"
      },
      "source": [
        "Orange is an American global telecommunication company. The firm has been providing terrible customer service. They continue to fall short despite repeated promises to improve. Only last month (October 2016) the authority fined them a $2.3 million, after receiving over 1000 consumer complaints.\n",
        "\n",
        "The existing database will serve as a repository of public customer complaints filed against Orange.\n",
        "\n",
        "It will help to pin down what is wrong with Orange's customer service.\n",
        "\n",
        "**`Data Dictionary`**\n",
        "\n",
        "1. Ticket #: Ticket number assigned to each complaint\n",
        "2. Customer Complaint: Description of complaint\n",
        "3. Date: Date of complaint\n",
        "4. Time: Time of complaint\n",
        "5. Received Via: Mode of communication of the complaint\n",
        "6. City: Customer city\n",
        "7. State: Customer state\n",
        "8. Zipcode: Customer zip\n",
        "9. Status: Status of complaint\n",
        "10. Filing on behalf of someone\n",
        "\n",
        "### Analysis Task\n",
        "\n",
        "> Import data into environment.\n",
        "\n",
        "> Provide the trend chart for the number of complaints at monthly and daily granularity levels.\n",
        "\n",
        "> Create a new categorical variable with value as Open and Closed. Open & Pending is to be categorized as Open and Closed & Solved is to be categorized as Closed.\n",
        "\n",
        "> Provide state wise status of complaints in a stacked bar chart. Use the categorized variable from Q3. Provide insights on:\n",
        ">> Which state has the maximum complaints\n",
        "\n",
        ">> Which state has the highest percentage of unresolved complaints\n",
        "\n",
        "> Provide a table with the frequency of complaint types.\n",
        "*Which complaint types are maximum i.e., around internet, network issues, or across any other domains*.\n",
        "\n",
        "Provide the percentage of complaints resolved till date, which were received through the Internet and customer care calls.\n",
        "\n",
        "**The analysis results to be provided with insights wherever applicable**."
      ]
    },
    {
      "cell_type": "code",
      "execution_count": null,
      "metadata": {
        "id": "gf25aknEESsb"
      },
      "outputs": [],
      "source": [
        "import numpy as np\n",
        "import pandas as pd\n",
        "import matplotlib.pyplot as plt"
      ]
    },
    {
      "cell_type": "code",
      "execution_count": null,
      "metadata": {
        "colab": {
          "base_uri": "https://localhost:8080/",
          "height": 74
        },
        "id": "cKyXGC9cG_2s",
        "outputId": "a2f4cd34-87d6-49cb-ebb0-36aafd01218c"
      },
      "outputs": [
        {
          "output_type": "display_data",
          "data": {
            "text/plain": [
              "<IPython.core.display.HTML object>"
            ],
            "text/html": [
              "\n",
              "     <input type=\"file\" id=\"files-28a53490-53fa-414b-9e77-5196b98066c8\" name=\"files[]\" multiple disabled\n",
              "        style=\"border:none\" />\n",
              "     <output id=\"result-28a53490-53fa-414b-9e77-5196b98066c8\">\n",
              "      Upload widget is only available when the cell has been executed in the\n",
              "      current browser session. Please rerun this cell to enable.\n",
              "      </output>\n",
              "      <script>// Copyright 2017 Google LLC\n",
              "//\n",
              "// Licensed under the Apache License, Version 2.0 (the \"License\");\n",
              "// you may not use this file except in compliance with the License.\n",
              "// You may obtain a copy of the License at\n",
              "//\n",
              "//      http://www.apache.org/licenses/LICENSE-2.0\n",
              "//\n",
              "// Unless required by applicable law or agreed to in writing, software\n",
              "// distributed under the License is distributed on an \"AS IS\" BASIS,\n",
              "// WITHOUT WARRANTIES OR CONDITIONS OF ANY KIND, either express or implied.\n",
              "// See the License for the specific language governing permissions and\n",
              "// limitations under the License.\n",
              "\n",
              "/**\n",
              " * @fileoverview Helpers for google.colab Python module.\n",
              " */\n",
              "(function(scope) {\n",
              "function span(text, styleAttributes = {}) {\n",
              "  const element = document.createElement('span');\n",
              "  element.textContent = text;\n",
              "  for (const key of Object.keys(styleAttributes)) {\n",
              "    element.style[key] = styleAttributes[key];\n",
              "  }\n",
              "  return element;\n",
              "}\n",
              "\n",
              "// Max number of bytes which will be uploaded at a time.\n",
              "const MAX_PAYLOAD_SIZE = 100 * 1024;\n",
              "\n",
              "function _uploadFiles(inputId, outputId) {\n",
              "  const steps = uploadFilesStep(inputId, outputId);\n",
              "  const outputElement = document.getElementById(outputId);\n",
              "  // Cache steps on the outputElement to make it available for the next call\n",
              "  // to uploadFilesContinue from Python.\n",
              "  outputElement.steps = steps;\n",
              "\n",
              "  return _uploadFilesContinue(outputId);\n",
              "}\n",
              "\n",
              "// This is roughly an async generator (not supported in the browser yet),\n",
              "// where there are multiple asynchronous steps and the Python side is going\n",
              "// to poll for completion of each step.\n",
              "// This uses a Promise to block the python side on completion of each step,\n",
              "// then passes the result of the previous step as the input to the next step.\n",
              "function _uploadFilesContinue(outputId) {\n",
              "  const outputElement = document.getElementById(outputId);\n",
              "  const steps = outputElement.steps;\n",
              "\n",
              "  const next = steps.next(outputElement.lastPromiseValue);\n",
              "  return Promise.resolve(next.value.promise).then((value) => {\n",
              "    // Cache the last promise value to make it available to the next\n",
              "    // step of the generator.\n",
              "    outputElement.lastPromiseValue = value;\n",
              "    return next.value.response;\n",
              "  });\n",
              "}\n",
              "\n",
              "/**\n",
              " * Generator function which is called between each async step of the upload\n",
              " * process.\n",
              " * @param {string} inputId Element ID of the input file picker element.\n",
              " * @param {string} outputId Element ID of the output display.\n",
              " * @return {!Iterable<!Object>} Iterable of next steps.\n",
              " */\n",
              "function* uploadFilesStep(inputId, outputId) {\n",
              "  const inputElement = document.getElementById(inputId);\n",
              "  inputElement.disabled = false;\n",
              "\n",
              "  const outputElement = document.getElementById(outputId);\n",
              "  outputElement.innerHTML = '';\n",
              "\n",
              "  const pickedPromise = new Promise((resolve) => {\n",
              "    inputElement.addEventListener('change', (e) => {\n",
              "      resolve(e.target.files);\n",
              "    });\n",
              "  });\n",
              "\n",
              "  const cancel = document.createElement('button');\n",
              "  inputElement.parentElement.appendChild(cancel);\n",
              "  cancel.textContent = 'Cancel upload';\n",
              "  const cancelPromise = new Promise((resolve) => {\n",
              "    cancel.onclick = () => {\n",
              "      resolve(null);\n",
              "    };\n",
              "  });\n",
              "\n",
              "  // Wait for the user to pick the files.\n",
              "  const files = yield {\n",
              "    promise: Promise.race([pickedPromise, cancelPromise]),\n",
              "    response: {\n",
              "      action: 'starting',\n",
              "    }\n",
              "  };\n",
              "\n",
              "  cancel.remove();\n",
              "\n",
              "  // Disable the input element since further picks are not allowed.\n",
              "  inputElement.disabled = true;\n",
              "\n",
              "  if (!files) {\n",
              "    return {\n",
              "      response: {\n",
              "        action: 'complete',\n",
              "      }\n",
              "    };\n",
              "  }\n",
              "\n",
              "  for (const file of files) {\n",
              "    const li = document.createElement('li');\n",
              "    li.append(span(file.name, {fontWeight: 'bold'}));\n",
              "    li.append(span(\n",
              "        `(${file.type || 'n/a'}) - ${file.size} bytes, ` +\n",
              "        `last modified: ${\n",
              "            file.lastModifiedDate ? file.lastModifiedDate.toLocaleDateString() :\n",
              "                                    'n/a'} - `));\n",
              "    const percent = span('0% done');\n",
              "    li.appendChild(percent);\n",
              "\n",
              "    outputElement.appendChild(li);\n",
              "\n",
              "    const fileDataPromise = new Promise((resolve) => {\n",
              "      const reader = new FileReader();\n",
              "      reader.onload = (e) => {\n",
              "        resolve(e.target.result);\n",
              "      };\n",
              "      reader.readAsArrayBuffer(file);\n",
              "    });\n",
              "    // Wait for the data to be ready.\n",
              "    let fileData = yield {\n",
              "      promise: fileDataPromise,\n",
              "      response: {\n",
              "        action: 'continue',\n",
              "      }\n",
              "    };\n",
              "\n",
              "    // Use a chunked sending to avoid message size limits. See b/62115660.\n",
              "    let position = 0;\n",
              "    do {\n",
              "      const length = Math.min(fileData.byteLength - position, MAX_PAYLOAD_SIZE);\n",
              "      const chunk = new Uint8Array(fileData, position, length);\n",
              "      position += length;\n",
              "\n",
              "      const base64 = btoa(String.fromCharCode.apply(null, chunk));\n",
              "      yield {\n",
              "        response: {\n",
              "          action: 'append',\n",
              "          file: file.name,\n",
              "          data: base64,\n",
              "        },\n",
              "      };\n",
              "\n",
              "      let percentDone = fileData.byteLength === 0 ?\n",
              "          100 :\n",
              "          Math.round((position / fileData.byteLength) * 100);\n",
              "      percent.textContent = `${percentDone}% done`;\n",
              "\n",
              "    } while (position < fileData.byteLength);\n",
              "  }\n",
              "\n",
              "  // All done.\n",
              "  yield {\n",
              "    response: {\n",
              "      action: 'complete',\n",
              "    }\n",
              "  };\n",
              "}\n",
              "\n",
              "scope.google = scope.google || {};\n",
              "scope.google.colab = scope.google.colab || {};\n",
              "scope.google.colab._files = {\n",
              "  _uploadFiles,\n",
              "  _uploadFilesContinue,\n",
              "};\n",
              "})(self);\n",
              "</script> "
            ]
          },
          "metadata": {}
        },
        {
          "output_type": "stream",
          "name": "stdout",
          "text": [
            "Saving Orange_telecom_complaints_data (1).csv to Orange_telecom_complaints_data (1) (1).csv\n"
          ]
        }
      ],
      "source": [
        "from google.colab import files \n",
        "data_to_load = files.upload()"
      ]
    },
    {
      "cell_type": "code",
      "execution_count": null,
      "metadata": {
        "id": "3IGjEz4eGvT1"
      },
      "outputs": [],
      "source": [
        "## drive link for the data source - https://drive.google.com/file/d/1-FsEcITxkPRQ9-xuRvY6xkfLadsXksR_/view?usp=sharing\n",
        "df = pd.read_csv(\"Orange_telecom_complaints_data (1).csv\")"
      ]
    },
    {
      "cell_type": "code",
      "execution_count": null,
      "metadata": {
        "colab": {
          "base_uri": "https://localhost:8080/",
          "height": 257
        },
        "id": "OPWoQK6JHSOI",
        "outputId": "2ac11114-bc16-4738-bdaf-995a2ba86e87"
      },
      "outputs": [
        {
          "output_type": "execute_result",
          "data": {
            "text/plain": [
              "  Ticket #                            Customer Complaint      Date  \\\n",
              "0   250635                 Comcast Cable Internet Speeds  22-04-15   \n",
              "1   223441  Payment disappear - service got disconnected  04-08-15   \n",
              "2   242732                             Speed and Service  18-04-15   \n",
              "\n",
              "  Date_month_year         Time        Received Via      City     State  \\\n",
              "0       22-Apr-15   3:53:50 PM  Customer Care Call  Abingdon  Maryland   \n",
              "1       04-Aug-15  10:22:56 AM            Internet   Acworth   Georgia   \n",
              "2       18-Apr-15   9:55:47 AM            Internet   Acworth   Georgia   \n",
              "\n",
              "   Zip code  Status Filing on Behalf of Someone  \n",
              "0     21009  Closed                          No  \n",
              "1     30102  Closed                          No  \n",
              "2     30101  Closed                         Yes  "
            ],
            "text/html": [
              "\n",
              "  <div id=\"df-270ce99f-d282-496e-a54d-d9f52342b972\">\n",
              "    <div class=\"colab-df-container\">\n",
              "      <div>\n",
              "<style scoped>\n",
              "    .dataframe tbody tr th:only-of-type {\n",
              "        vertical-align: middle;\n",
              "    }\n",
              "\n",
              "    .dataframe tbody tr th {\n",
              "        vertical-align: top;\n",
              "    }\n",
              "\n",
              "    .dataframe thead th {\n",
              "        text-align: right;\n",
              "    }\n",
              "</style>\n",
              "<table border=\"1\" class=\"dataframe\">\n",
              "  <thead>\n",
              "    <tr style=\"text-align: right;\">\n",
              "      <th></th>\n",
              "      <th>Ticket #</th>\n",
              "      <th>Customer Complaint</th>\n",
              "      <th>Date</th>\n",
              "      <th>Date_month_year</th>\n",
              "      <th>Time</th>\n",
              "      <th>Received Via</th>\n",
              "      <th>City</th>\n",
              "      <th>State</th>\n",
              "      <th>Zip code</th>\n",
              "      <th>Status</th>\n",
              "      <th>Filing on Behalf of Someone</th>\n",
              "    </tr>\n",
              "  </thead>\n",
              "  <tbody>\n",
              "    <tr>\n",
              "      <th>0</th>\n",
              "      <td>250635</td>\n",
              "      <td>Comcast Cable Internet Speeds</td>\n",
              "      <td>22-04-15</td>\n",
              "      <td>22-Apr-15</td>\n",
              "      <td>3:53:50 PM</td>\n",
              "      <td>Customer Care Call</td>\n",
              "      <td>Abingdon</td>\n",
              "      <td>Maryland</td>\n",
              "      <td>21009</td>\n",
              "      <td>Closed</td>\n",
              "      <td>No</td>\n",
              "    </tr>\n",
              "    <tr>\n",
              "      <th>1</th>\n",
              "      <td>223441</td>\n",
              "      <td>Payment disappear - service got disconnected</td>\n",
              "      <td>04-08-15</td>\n",
              "      <td>04-Aug-15</td>\n",
              "      <td>10:22:56 AM</td>\n",
              "      <td>Internet</td>\n",
              "      <td>Acworth</td>\n",
              "      <td>Georgia</td>\n",
              "      <td>30102</td>\n",
              "      <td>Closed</td>\n",
              "      <td>No</td>\n",
              "    </tr>\n",
              "    <tr>\n",
              "      <th>2</th>\n",
              "      <td>242732</td>\n",
              "      <td>Speed and Service</td>\n",
              "      <td>18-04-15</td>\n",
              "      <td>18-Apr-15</td>\n",
              "      <td>9:55:47 AM</td>\n",
              "      <td>Internet</td>\n",
              "      <td>Acworth</td>\n",
              "      <td>Georgia</td>\n",
              "      <td>30101</td>\n",
              "      <td>Closed</td>\n",
              "      <td>Yes</td>\n",
              "    </tr>\n",
              "  </tbody>\n",
              "</table>\n",
              "</div>\n",
              "      <button class=\"colab-df-convert\" onclick=\"convertToInteractive('df-270ce99f-d282-496e-a54d-d9f52342b972')\"\n",
              "              title=\"Convert this dataframe to an interactive table.\"\n",
              "              style=\"display:none;\">\n",
              "        \n",
              "  <svg xmlns=\"http://www.w3.org/2000/svg\" height=\"24px\"viewBox=\"0 0 24 24\"\n",
              "       width=\"24px\">\n",
              "    <path d=\"M0 0h24v24H0V0z\" fill=\"none\"/>\n",
              "    <path d=\"M18.56 5.44l.94 2.06.94-2.06 2.06-.94-2.06-.94-.94-2.06-.94 2.06-2.06.94zm-11 1L8.5 8.5l.94-2.06 2.06-.94-2.06-.94L8.5 2.5l-.94 2.06-2.06.94zm10 10l.94 2.06.94-2.06 2.06-.94-2.06-.94-.94-2.06-.94 2.06-2.06.94z\"/><path d=\"M17.41 7.96l-1.37-1.37c-.4-.4-.92-.59-1.43-.59-.52 0-1.04.2-1.43.59L10.3 9.45l-7.72 7.72c-.78.78-.78 2.05 0 2.83L4 21.41c.39.39.9.59 1.41.59.51 0 1.02-.2 1.41-.59l7.78-7.78 2.81-2.81c.8-.78.8-2.07 0-2.86zM5.41 20L4 18.59l7.72-7.72 1.47 1.35L5.41 20z\"/>\n",
              "  </svg>\n",
              "      </button>\n",
              "      \n",
              "  <style>\n",
              "    .colab-df-container {\n",
              "      display:flex;\n",
              "      flex-wrap:wrap;\n",
              "      gap: 12px;\n",
              "    }\n",
              "\n",
              "    .colab-df-convert {\n",
              "      background-color: #E8F0FE;\n",
              "      border: none;\n",
              "      border-radius: 50%;\n",
              "      cursor: pointer;\n",
              "      display: none;\n",
              "      fill: #1967D2;\n",
              "      height: 32px;\n",
              "      padding: 0 0 0 0;\n",
              "      width: 32px;\n",
              "    }\n",
              "\n",
              "    .colab-df-convert:hover {\n",
              "      background-color: #E2EBFA;\n",
              "      box-shadow: 0px 1px 2px rgba(60, 64, 67, 0.3), 0px 1px 3px 1px rgba(60, 64, 67, 0.15);\n",
              "      fill: #174EA6;\n",
              "    }\n",
              "\n",
              "    [theme=dark] .colab-df-convert {\n",
              "      background-color: #3B4455;\n",
              "      fill: #D2E3FC;\n",
              "    }\n",
              "\n",
              "    [theme=dark] .colab-df-convert:hover {\n",
              "      background-color: #434B5C;\n",
              "      box-shadow: 0px 1px 3px 1px rgba(0, 0, 0, 0.15);\n",
              "      filter: drop-shadow(0px 1px 2px rgba(0, 0, 0, 0.3));\n",
              "      fill: #FFFFFF;\n",
              "    }\n",
              "  </style>\n",
              "\n",
              "      <script>\n",
              "        const buttonEl =\n",
              "          document.querySelector('#df-270ce99f-d282-496e-a54d-d9f52342b972 button.colab-df-convert');\n",
              "        buttonEl.style.display =\n",
              "          google.colab.kernel.accessAllowed ? 'block' : 'none';\n",
              "\n",
              "        async function convertToInteractive(key) {\n",
              "          const element = document.querySelector('#df-270ce99f-d282-496e-a54d-d9f52342b972');\n",
              "          const dataTable =\n",
              "            await google.colab.kernel.invokeFunction('convertToInteractive',\n",
              "                                                     [key], {});\n",
              "          if (!dataTable) return;\n",
              "\n",
              "          const docLinkHtml = 'Like what you see? Visit the ' +\n",
              "            '<a target=\"_blank\" href=https://colab.research.google.com/notebooks/data_table.ipynb>data table notebook</a>'\n",
              "            + ' to learn more about interactive tables.';\n",
              "          element.innerHTML = '';\n",
              "          dataTable['output_type'] = 'display_data';\n",
              "          await google.colab.output.renderOutput(dataTable, element);\n",
              "          const docLink = document.createElement('div');\n",
              "          docLink.innerHTML = docLinkHtml;\n",
              "          element.appendChild(docLink);\n",
              "        }\n",
              "      </script>\n",
              "    </div>\n",
              "  </div>\n",
              "  "
            ]
          },
          "metadata": {},
          "execution_count": 5
        }
      ],
      "source": [
        "df.head(3)"
      ]
    },
    {
      "cell_type": "code",
      "execution_count": null,
      "metadata": {
        "id": "VO4CVmL2HpkC"
      },
      "outputs": [],
      "source": [
        "## Creating a time based indexing. To enable, to perform some kind of time series analysis \n",
        "df[\"date_index\"] = df[\"Date_month_year\"] + \" \" + df[\"Time\"]"
      ]
    },
    {
      "cell_type": "code",
      "execution_count": null,
      "metadata": {
        "id": "CN9SL3KvItVR"
      },
      "outputs": [],
      "source": [
        "df[\"date_index\"] = pd.to_datetime(df[\"date_index\"])\n",
        "df[\"Date_month_year\"] = pd.to_datetime(df[\"Date_month_year\"])"
      ]
    },
    {
      "cell_type": "code",
      "execution_count": null,
      "metadata": {
        "colab": {
          "base_uri": "https://localhost:8080/"
        },
        "id": "OS92SmHlIyOG",
        "outputId": "debbe168-c9e9-4cf3-e5ca-72c0de21e0ee"
      },
      "outputs": [
        {
          "output_type": "execute_result",
          "data": {
            "text/plain": [
              "Ticket #                               object\n",
              "Customer Complaint                     object\n",
              "Date                                   object\n",
              "Date_month_year                datetime64[ns]\n",
              "Time                                   object\n",
              "Received Via                           object\n",
              "City                                   object\n",
              "State                                  object\n",
              "Zip code                                int64\n",
              "Status                                 object\n",
              "Filing on Behalf of Someone            object\n",
              "date_index                     datetime64[ns]\n",
              "dtype: object"
            ]
          },
          "metadata": {},
          "execution_count": 8
        }
      ],
      "source": [
        "df.dtypes"
      ]
    },
    {
      "cell_type": "code",
      "execution_count": null,
      "metadata": {
        "id": "olShN-UzI6Gg"
      },
      "outputs": [],
      "source": [
        "#.set_inde() is basically reassinging the re indeing to the dataframe\n",
        "df = df.set_index(df[\"date_index\"])"
      ]
    },
    {
      "cell_type": "code",
      "execution_count": null,
      "metadata": {
        "colab": {
          "base_uri": "https://localhost:8080/",
          "height": 323
        },
        "id": "ajt_FebAI7oS",
        "outputId": "4077c312-a1e2-4ad0-a705-890db1057fa8"
      },
      "outputs": [
        {
          "output_type": "execute_result",
          "data": {
            "text/plain": [
              "                    Ticket #                            Customer Complaint  \\\n",
              "date_index                                                                   \n",
              "2015-04-22 15:53:50   250635                 Comcast Cable Internet Speeds   \n",
              "2015-08-04 10:22:56   223441  Payment disappear - service got disconnected   \n",
              "2015-04-18 09:55:47   242732                             Speed and Service   \n",
              "\n",
              "                         Date Date_month_year         Time  \\\n",
              "date_index                                                   \n",
              "2015-04-22 15:53:50  22-04-15      2015-04-22   3:53:50 PM   \n",
              "2015-08-04 10:22:56  04-08-15      2015-08-04  10:22:56 AM   \n",
              "2015-04-18 09:55:47  18-04-15      2015-04-18   9:55:47 AM   \n",
              "\n",
              "                           Received Via      City     State  Zip code  Status  \\\n",
              "date_index                                                                      \n",
              "2015-04-22 15:53:50  Customer Care Call  Abingdon  Maryland     21009  Closed   \n",
              "2015-08-04 10:22:56            Internet   Acworth   Georgia     30102  Closed   \n",
              "2015-04-18 09:55:47            Internet   Acworth   Georgia     30101  Closed   \n",
              "\n",
              "                    Filing on Behalf of Someone          date_index  \n",
              "date_index                                                           \n",
              "2015-04-22 15:53:50                          No 2015-04-22 15:53:50  \n",
              "2015-08-04 10:22:56                          No 2015-08-04 10:22:56  \n",
              "2015-04-18 09:55:47                         Yes 2015-04-18 09:55:47  "
            ],
            "text/html": [
              "\n",
              "  <div id=\"df-ab0c084f-0cb7-4e65-92e6-cd31b13a5db8\">\n",
              "    <div class=\"colab-df-container\">\n",
              "      <div>\n",
              "<style scoped>\n",
              "    .dataframe tbody tr th:only-of-type {\n",
              "        vertical-align: middle;\n",
              "    }\n",
              "\n",
              "    .dataframe tbody tr th {\n",
              "        vertical-align: top;\n",
              "    }\n",
              "\n",
              "    .dataframe thead th {\n",
              "        text-align: right;\n",
              "    }\n",
              "</style>\n",
              "<table border=\"1\" class=\"dataframe\">\n",
              "  <thead>\n",
              "    <tr style=\"text-align: right;\">\n",
              "      <th></th>\n",
              "      <th>Ticket #</th>\n",
              "      <th>Customer Complaint</th>\n",
              "      <th>Date</th>\n",
              "      <th>Date_month_year</th>\n",
              "      <th>Time</th>\n",
              "      <th>Received Via</th>\n",
              "      <th>City</th>\n",
              "      <th>State</th>\n",
              "      <th>Zip code</th>\n",
              "      <th>Status</th>\n",
              "      <th>Filing on Behalf of Someone</th>\n",
              "      <th>date_index</th>\n",
              "    </tr>\n",
              "    <tr>\n",
              "      <th>date_index</th>\n",
              "      <th></th>\n",
              "      <th></th>\n",
              "      <th></th>\n",
              "      <th></th>\n",
              "      <th></th>\n",
              "      <th></th>\n",
              "      <th></th>\n",
              "      <th></th>\n",
              "      <th></th>\n",
              "      <th></th>\n",
              "      <th></th>\n",
              "      <th></th>\n",
              "    </tr>\n",
              "  </thead>\n",
              "  <tbody>\n",
              "    <tr>\n",
              "      <th>2015-04-22 15:53:50</th>\n",
              "      <td>250635</td>\n",
              "      <td>Comcast Cable Internet Speeds</td>\n",
              "      <td>22-04-15</td>\n",
              "      <td>2015-04-22</td>\n",
              "      <td>3:53:50 PM</td>\n",
              "      <td>Customer Care Call</td>\n",
              "      <td>Abingdon</td>\n",
              "      <td>Maryland</td>\n",
              "      <td>21009</td>\n",
              "      <td>Closed</td>\n",
              "      <td>No</td>\n",
              "      <td>2015-04-22 15:53:50</td>\n",
              "    </tr>\n",
              "    <tr>\n",
              "      <th>2015-08-04 10:22:56</th>\n",
              "      <td>223441</td>\n",
              "      <td>Payment disappear - service got disconnected</td>\n",
              "      <td>04-08-15</td>\n",
              "      <td>2015-08-04</td>\n",
              "      <td>10:22:56 AM</td>\n",
              "      <td>Internet</td>\n",
              "      <td>Acworth</td>\n",
              "      <td>Georgia</td>\n",
              "      <td>30102</td>\n",
              "      <td>Closed</td>\n",
              "      <td>No</td>\n",
              "      <td>2015-08-04 10:22:56</td>\n",
              "    </tr>\n",
              "    <tr>\n",
              "      <th>2015-04-18 09:55:47</th>\n",
              "      <td>242732</td>\n",
              "      <td>Speed and Service</td>\n",
              "      <td>18-04-15</td>\n",
              "      <td>2015-04-18</td>\n",
              "      <td>9:55:47 AM</td>\n",
              "      <td>Internet</td>\n",
              "      <td>Acworth</td>\n",
              "      <td>Georgia</td>\n",
              "      <td>30101</td>\n",
              "      <td>Closed</td>\n",
              "      <td>Yes</td>\n",
              "      <td>2015-04-18 09:55:47</td>\n",
              "    </tr>\n",
              "  </tbody>\n",
              "</table>\n",
              "</div>\n",
              "      <button class=\"colab-df-convert\" onclick=\"convertToInteractive('df-ab0c084f-0cb7-4e65-92e6-cd31b13a5db8')\"\n",
              "              title=\"Convert this dataframe to an interactive table.\"\n",
              "              style=\"display:none;\">\n",
              "        \n",
              "  <svg xmlns=\"http://www.w3.org/2000/svg\" height=\"24px\"viewBox=\"0 0 24 24\"\n",
              "       width=\"24px\">\n",
              "    <path d=\"M0 0h24v24H0V0z\" fill=\"none\"/>\n",
              "    <path d=\"M18.56 5.44l.94 2.06.94-2.06 2.06-.94-2.06-.94-.94-2.06-.94 2.06-2.06.94zm-11 1L8.5 8.5l.94-2.06 2.06-.94-2.06-.94L8.5 2.5l-.94 2.06-2.06.94zm10 10l.94 2.06.94-2.06 2.06-.94-2.06-.94-.94-2.06-.94 2.06-2.06.94z\"/><path d=\"M17.41 7.96l-1.37-1.37c-.4-.4-.92-.59-1.43-.59-.52 0-1.04.2-1.43.59L10.3 9.45l-7.72 7.72c-.78.78-.78 2.05 0 2.83L4 21.41c.39.39.9.59 1.41.59.51 0 1.02-.2 1.41-.59l7.78-7.78 2.81-2.81c.8-.78.8-2.07 0-2.86zM5.41 20L4 18.59l7.72-7.72 1.47 1.35L5.41 20z\"/>\n",
              "  </svg>\n",
              "      </button>\n",
              "      \n",
              "  <style>\n",
              "    .colab-df-container {\n",
              "      display:flex;\n",
              "      flex-wrap:wrap;\n",
              "      gap: 12px;\n",
              "    }\n",
              "\n",
              "    .colab-df-convert {\n",
              "      background-color: #E8F0FE;\n",
              "      border: none;\n",
              "      border-radius: 50%;\n",
              "      cursor: pointer;\n",
              "      display: none;\n",
              "      fill: #1967D2;\n",
              "      height: 32px;\n",
              "      padding: 0 0 0 0;\n",
              "      width: 32px;\n",
              "    }\n",
              "\n",
              "    .colab-df-convert:hover {\n",
              "      background-color: #E2EBFA;\n",
              "      box-shadow: 0px 1px 2px rgba(60, 64, 67, 0.3), 0px 1px 3px 1px rgba(60, 64, 67, 0.15);\n",
              "      fill: #174EA6;\n",
              "    }\n",
              "\n",
              "    [theme=dark] .colab-df-convert {\n",
              "      background-color: #3B4455;\n",
              "      fill: #D2E3FC;\n",
              "    }\n",
              "\n",
              "    [theme=dark] .colab-df-convert:hover {\n",
              "      background-color: #434B5C;\n",
              "      box-shadow: 0px 1px 3px 1px rgba(0, 0, 0, 0.15);\n",
              "      filter: drop-shadow(0px 1px 2px rgba(0, 0, 0, 0.3));\n",
              "      fill: #FFFFFF;\n",
              "    }\n",
              "  </style>\n",
              "\n",
              "      <script>\n",
              "        const buttonEl =\n",
              "          document.querySelector('#df-ab0c084f-0cb7-4e65-92e6-cd31b13a5db8 button.colab-df-convert');\n",
              "        buttonEl.style.display =\n",
              "          google.colab.kernel.accessAllowed ? 'block' : 'none';\n",
              "\n",
              "        async function convertToInteractive(key) {\n",
              "          const element = document.querySelector('#df-ab0c084f-0cb7-4e65-92e6-cd31b13a5db8');\n",
              "          const dataTable =\n",
              "            await google.colab.kernel.invokeFunction('convertToInteractive',\n",
              "                                                     [key], {});\n",
              "          if (!dataTable) return;\n",
              "\n",
              "          const docLinkHtml = 'Like what you see? Visit the ' +\n",
              "            '<a target=\"_blank\" href=https://colab.research.google.com/notebooks/data_table.ipynb>data table notebook</a>'\n",
              "            + ' to learn more about interactive tables.';\n",
              "          element.innerHTML = '';\n",
              "          dataTable['output_type'] = 'display_data';\n",
              "          await google.colab.output.renderOutput(dataTable, element);\n",
              "          const docLink = document.createElement('div');\n",
              "          docLink.innerHTML = docLinkHtml;\n",
              "          element.appendChild(docLink);\n",
              "        }\n",
              "      </script>\n",
              "    </div>\n",
              "  </div>\n",
              "  "
            ]
          },
          "metadata": {},
          "execution_count": 10
        }
      ],
      "source": [
        "df.head(3)"
      ]
    },
    {
      "cell_type": "code",
      "execution_count": null,
      "metadata": {
        "colab": {
          "base_uri": "https://localhost:8080/"
        },
        "id": "z_D8iUVBJTE6",
        "outputId": "990d5488-3f4a-4865-8414-6c3eb41be5ec"
      },
      "outputs": [
        {
          "output_type": "execute_result",
          "data": {
            "text/plain": [
              "2015-06-24    218\n",
              "2015-06-23    190\n",
              "2015-06-25     98\n",
              "2015-06-26     55\n",
              "2015-06-30     53\n",
              "2015-06-29     51\n",
              "Name: Date_month_year, dtype: int64"
            ]
          },
          "metadata": {},
          "execution_count": 11
        }
      ],
      "source": [
        "df[\"Date_month_year\"].value_counts()[:6]"
      ]
    },
    {
      "cell_type": "code",
      "execution_count": null,
      "metadata": {
        "colab": {
          "base_uri": "https://localhost:8080/",
          "height": 440
        },
        "id": "lQbZifDzJkgO",
        "outputId": "2aecaf5b-10f3-4377-97a3-af45a8eaa5d5"
      },
      "outputs": [
        {
          "output_type": "stream",
          "name": "stdout",
          "text": [
            "date_index\n",
            "2015-01-04    18\n",
            "2015-01-05    12\n",
            "2015-01-06    25\n",
            "2015-01-07     0\n",
            "2015-01-08     0\n",
            "Freq: D, dtype: int64\n"
          ]
        },
        {
          "output_type": "display_data",
          "data": {
            "text/plain": [
              "<Figure size 1120x320 with 1 Axes>"
            ],
            "image/png": "[encoded data removed]"
          },
          "metadata": {
            "needs_background": "light"
          }
        }
      ],
      "source": [
        "## Check how many complaints - date wise or daily basis\n",
        "from matplotlib.pyplot import figure \n",
        "figure(figsize=(14, 4), dpi=80) \n",
        "\n",
        "#fd = df[\"Date_month_year\"].value_counts()\n",
        "#print(fd.head())\n",
        "#fd.plot();\n",
        "\n",
        "## or \n",
        "fd = df.groupby(pd.Grouper(freq=\"D\")).size()\n",
        "print(fd.head())\n",
        "fd.plot();"
      ]
    },
    {
      "cell_type": "code",
      "execution_count": null,
      "metadata": {
        "id": "K49WbSqhJ1cV"
      },
      "outputs": [],
      "source": [
        "fm = df.groupby(pd.Grouper(freq=\"M\")).size()\n",
        "\n",
        "## https://pandas.pydata.org/pandas-docs/version/0.23/generated/pandas.Grouper.html\n",
        "## https://pbpython.com/pandas-grouper-agg.html"
      ]
    },
    {
      "cell_type": "code",
      "execution_count": null,
      "metadata": {
        "colab": {
          "base_uri": "https://localhost:8080/"
        },
        "id": "SjbKciOaMyJR",
        "outputId": "ae5aa4fa-3b27-4dcc-da55-76845f484219"
      },
      "outputs": [
        {
          "output_type": "execute_result",
          "data": {
            "text/plain": [
              "date_index\n",
              "2015-01-31      55\n",
              "2015-02-28      59\n",
              "2015-03-31      45\n",
              "2015-04-30     375\n",
              "2015-05-31     317\n",
              "2015-06-30    1046\n",
              "2015-07-31      49\n",
              "Freq: M, dtype: int64"
            ]
          },
          "metadata": {},
          "execution_count": 14
        }
      ],
      "source": [
        "fm.head(7)"
      ]
    },
    {
      "cell_type": "code",
      "execution_count": null,
      "metadata": {
        "colab": {
          "base_uri": "https://localhost:8080/",
          "height": 309
        },
        "id": "6NPVwqzhNJj2",
        "outputId": "bf611bf5-8573-476f-d530-95ccd8e38d65"
      },
      "outputs": [
        {
          "output_type": "execute_result",
          "data": {
            "text/plain": [
              "<matplotlib.axes._subplots.AxesSubplot at 0x7fa3af286b20>"
            ]
          },
          "metadata": {},
          "execution_count": 15
        },
        {
          "output_type": "display_data",
          "data": {
            "text/plain": [
              "<Figure size 432x288 with 1 Axes>"
            ],
            "image/png": "[encoded data removed]"
          },
          "metadata": {
            "needs_background": "light"
          }
        }
      ],
      "source": [
        "fm.plot()\n",
        "\n",
        "## More here : https://medium.com/nerd-for-tech/how-to-plot-timeseries-data-in-python-and-plotly-1382d205cc2"
      ]
    },
    {
      "cell_type": "code",
      "execution_count": null,
      "metadata": {
        "colab": {
          "base_uri": "https://localhost:8080/"
        },
        "id": "NdT-CbYUNibR",
        "outputId": "d06a52af-abac-446e-9c70-45d740b9b0e9"
      },
      "outputs": [
        {
          "output_type": "execute_result",
          "data": {
            "text/plain": [
              "array(['Closed', 'Open', 'Solved', 'Pending'], dtype=object)"
            ]
          },
          "metadata": {},
          "execution_count": 16
        }
      ],
      "source": [
        "df.Status.unique()"
      ]
    },
    {
      "cell_type": "code",
      "execution_count": null,
      "metadata": {
        "id": "aM3AlwlCP-ei"
      },
      "outputs": [],
      "source": [
        "## Create a new categorical variable with value as Open and Closed. \n",
        "## Open & Pending is to be categorized as Open and Closed & Solved is to be categorized as Closed.\n",
        "\n",
        "df[\"newStatus\"] = [\"Open\" if Status==\"Open\" or Status==\"Pending\" else \"Closed\" for Status in df[\"Status\"]]"
      ]
    },
    {
      "cell_type": "code",
      "execution_count": null,
      "metadata": {
        "colab": {
          "base_uri": "https://localhost:8080/",
          "height": 410
        },
        "id": "H-SWl0JOQCEO",
        "outputId": "88a25e8e-45d9-4285-b583-a6947a0f9c4e"
      },
      "outputs": [
        {
          "output_type": "execute_result",
          "data": {
            "text/plain": [
              "                    Ticket #                            Customer Complaint  \\\n",
              "date_index                                                                   \n",
              "2015-04-22 15:53:50   250635                 Comcast Cable Internet Speeds   \n",
              "2015-08-04 10:22:56   223441  Payment disappear - service got disconnected   \n",
              "2015-04-18 09:55:47   242732                             Speed and Service   \n",
              "\n",
              "                         Date Date_month_year         Time  \\\n",
              "date_index                                                   \n",
              "2015-04-22 15:53:50  22-04-15      2015-04-22   3:53:50 PM   \n",
              "2015-08-04 10:22:56  04-08-15      2015-08-04  10:22:56 AM   \n",
              "2015-04-18 09:55:47  18-04-15      2015-04-18   9:55:47 AM   \n",
              "\n",
              "                           Received Via      City     State  Zip code  Status  \\\n",
              "date_index                                                                      \n",
              "2015-04-22 15:53:50  Customer Care Call  Abingdon  Maryland     21009  Closed   \n",
              "2015-08-04 10:22:56            Internet   Acworth   Georgia     30102  Closed   \n",
              "2015-04-18 09:55:47            Internet   Acworth   Georgia     30101  Closed   \n",
              "\n",
              "                    Filing on Behalf of Someone          date_index newStatus  \n",
              "date_index                                                                     \n",
              "2015-04-22 15:53:50                          No 2015-04-22 15:53:50    Closed  \n",
              "2015-08-04 10:22:56                          No 2015-08-04 10:22:56    Closed  \n",
              "2015-04-18 09:55:47                         Yes 2015-04-18 09:55:47    Closed  "
            ],
            "text/html": [
              "\n",
              "  <div id=\"df-28ad616f-6332-447d-ba58-6996e2836e5b\">\n",
              "    <div class=\"colab-df-container\">\n",
              "      <div>\n",
              "<style scoped>\n",
              "    .dataframe tbody tr th:only-of-type {\n",
              "        vertical-align: middle;\n",
              "    }\n",
              "\n",
              "    .dataframe tbody tr th {\n",
              "        vertical-align: top;\n",
              "    }\n",
              "\n",
              "    .dataframe thead th {\n",
              "        text-align: right;\n",
              "    }\n",
              "</style>\n",
              "<table border=\"1\" class=\"dataframe\">\n",
              "  <thead>\n",
              "    <tr style=\"text-align: right;\">\n",
              "      <th></th>\n",
              "      <th>Ticket #</th>\n",
              "      <th>Customer Complaint</th>\n",
              "      <th>Date</th>\n",
              "      <th>Date_month_year</th>\n",
              "      <th>Time</th>\n",
              "      <th>Received Via</th>\n",
              "      <th>City</th>\n",
              "      <th>State</th>\n",
              "      <th>Zip code</th>\n",
              "      <th>Status</th>\n",
              "      <th>Filing on Behalf of Someone</th>\n",
              "      <th>date_index</th>\n",
              "      <th>newStatus</th>\n",
              "    </tr>\n",
              "    <tr>\n",
              "      <th>date_index</th>\n",
              "      <th></th>\n",
              "      <th></th>\n",
              "      <th></th>\n",
              "      <th></th>\n",
              "      <th></th>\n",
              "      <th></th>\n",
              "      <th></th>\n",
              "      <th></th>\n",
              "      <th></th>\n",
              "      <th></th>\n",
              "      <th></th>\n",
              "      <th></th>\n",
              "      <th></th>\n",
              "    </tr>\n",
              "  </thead>\n",
              "  <tbody>\n",
              "    <tr>\n",
              "      <th>2015-04-22 15:53:50</th>\n",
              "      <td>250635</td>\n",
              "      <td>Comcast Cable Internet Speeds</td>\n",
              "      <td>22-04-15</td>\n",
              "      <td>2015-04-22</td>\n",
              "      <td>3:53:50 PM</td>\n",
              "      <td>Customer Care Call</td>\n",
              "      <td>Abingdon</td>\n",
              "      <td>Maryland</td>\n",
              "      <td>21009</td>\n",
              "      <td>Closed</td>\n",
              "      <td>No</td>\n",
              "      <td>2015-04-22 15:53:50</td>\n",
              "      <td>Closed</td>\n",
              "    </tr>\n",
              "    <tr>\n",
              "      <th>2015-08-04 10:22:56</th>\n",
              "      <td>223441</td>\n",
              "      <td>Payment disappear - service got disconnected</td>\n",
              "      <td>04-08-15</td>\n",
              "      <td>2015-08-04</td>\n",
              "      <td>10:22:56 AM</td>\n",
              "      <td>Internet</td>\n",
              "      <td>Acworth</td>\n",
              "      <td>Georgia</td>\n",
              "      <td>30102</td>\n",
              "      <td>Closed</td>\n",
              "      <td>No</td>\n",
              "      <td>2015-08-04 10:22:56</td>\n",
              "      <td>Closed</td>\n",
              "    </tr>\n",
              "    <tr>\n",
              "      <th>2015-04-18 09:55:47</th>\n",
              "      <td>242732</td>\n",
              "      <td>Speed and Service</td>\n",
              "      <td>18-04-15</td>\n",
              "      <td>2015-04-18</td>\n",
              "      <td>9:55:47 AM</td>\n",
              "      <td>Internet</td>\n",
              "      <td>Acworth</td>\n",
              "      <td>Georgia</td>\n",
              "      <td>30101</td>\n",
              "      <td>Closed</td>\n",
              "      <td>Yes</td>\n",
              "      <td>2015-04-18 09:55:47</td>\n",
              "      <td>Closed</td>\n",
              "    </tr>\n",
              "  </tbody>\n",
              "</table>\n",
              "</div>\n",
              "      <button class=\"colab-df-convert\" onclick=\"convertToInteractive('df-28ad616f-6332-447d-ba58-6996e2836e5b')\"\n",
              "              title=\"Convert this dataframe to an interactive table.\"\n",
              "              style=\"display:none;\">\n",
              "        \n",
              "  <svg xmlns=\"http://www.w3.org/2000/svg\" height=\"24px\"viewBox=\"0 0 24 24\"\n",
              "       width=\"24px\">\n",
              "    <path d=\"M0 0h24v24H0V0z\" fill=\"none\"/>\n",
              "    <path d=\"M18.56 5.44l.94 2.06.94-2.06 2.06-.94-2.06-.94-.94-2.06-.94 2.06-2.06.94zm-11 1L8.5 8.5l.94-2.06 2.06-.94-2.06-.94L8.5 2.5l-.94 2.06-2.06.94zm10 10l.94 2.06.94-2.06 2.06-.94-2.06-.94-.94-2.06-.94 2.06-2.06.94z\"/><path d=\"M17.41 7.96l-1.37-1.37c-.4-.4-.92-.59-1.43-.59-.52 0-1.04.2-1.43.59L10.3 9.45l-7.72 7.72c-.78.78-.78 2.05 0 2.83L4 21.41c.39.39.9.59 1.41.59.51 0 1.02-.2 1.41-.59l7.78-7.78 2.81-2.81c.8-.78.8-2.07 0-2.86zM5.41 20L4 18.59l7.72-7.72 1.47 1.35L5.41 20z\"/>\n",
              "  </svg>\n",
              "      </button>\n",
              "      \n",
              "  <style>\n",
              "    .colab-df-container {\n",
              "      display:flex;\n",
              "      flex-wrap:wrap;\n",
              "      gap: 12px;\n",
              "    }\n",
              "\n",
              "    .colab-df-convert {\n",
              "      background-color: #E8F0FE;\n",
              "      border: none;\n",
              "      border-radius: 50%;\n",
              "      cursor: pointer;\n",
              "      display: none;\n",
              "      fill: #1967D2;\n",
              "      height: 32px;\n",
              "      padding: 0 0 0 0;\n",
              "      width: 32px;\n",
              "    }\n",
              "\n",
              "    .colab-df-convert:hover {\n",
              "      background-color: #E2EBFA;\n",
              "      box-shadow: 0px 1px 2px rgba(60, 64, 67, 0.3), 0px 1px 3px 1px rgba(60, 64, 67, 0.15);\n",
              "      fill: #174EA6;\n",
              "    }\n",
              "\n",
              "    [theme=dark] .colab-df-convert {\n",
              "      background-color: #3B4455;\n",
              "      fill: #D2E3FC;\n",
              "    }\n",
              "\n",
              "    [theme=dark] .colab-df-convert:hover {\n",
              "      background-color: #434B5C;\n",
              "      box-shadow: 0px 1px 3px 1px rgba(0, 0, 0, 0.15);\n",
              "      filter: drop-shadow(0px 1px 2px rgba(0, 0, 0, 0.3));\n",
              "      fill: #FFFFFF;\n",
              "    }\n",
              "  </style>\n",
              "\n",
              "      <script>\n",
              "        const buttonEl =\n",
              "          document.querySelector('#df-28ad616f-6332-447d-ba58-6996e2836e5b button.colab-df-convert');\n",
              "        buttonEl.style.display =\n",
              "          google.colab.kernel.accessAllowed ? 'block' : 'none';\n",
              "\n",
              "        async function convertToInteractive(key) {\n",
              "          const element = document.querySelector('#df-28ad616f-6332-447d-ba58-6996e2836e5b');\n",
              "          const dataTable =\n",
              "            await google.colab.kernel.invokeFunction('convertToInteractive',\n",
              "                                                     [key], {});\n",
              "          if (!dataTable) return;\n",
              "\n",
              "          const docLinkHtml = 'Like what you see? Visit the ' +\n",
              "            '<a target=\"_blank\" href=https://colab.research.google.com/notebooks/data_table.ipynb>data table notebook</a>'\n",
              "            + ' to learn more about interactive tables.';\n",
              "          element.innerHTML = '';\n",
              "          dataTable['output_type'] = 'display_data';\n",
              "          await google.colab.output.renderOutput(dataTable, element);\n",
              "          const docLink = document.createElement('div');\n",
              "          docLink.innerHTML = docLinkHtml;\n",
              "          element.appendChild(docLink);\n",
              "        }\n",
              "      </script>\n",
              "    </div>\n",
              "  </div>\n",
              "  "
            ]
          },
          "metadata": {},
          "execution_count": 18
        }
      ],
      "source": [
        "df.head(3)"
      ]
    },
    {
      "cell_type": "code",
      "execution_count": null,
      "metadata": {
        "colab": {
          "base_uri": "https://localhost:8080/",
          "height": 206
        },
        "id": "JUvcCrDIQY8l",
        "outputId": "98b7edea-ff1a-4854-d6e0-a03761d4a005"
      },
      "outputs": [
        {
          "output_type": "execute_result",
          "data": {
            "text/plain": [
              "        State  Count\n",
              "0     Georgia    288\n",
              "1     Florida    240\n",
              "2  California    220\n",
              "3    Illinois    164\n",
              "4   Tennessee    143"
            ],
            "text/html": [
              "\n",
              "  <div id=\"df-9c6ff311-c816-4805-889f-ccd0837fe510\">\n",
              "    <div class=\"colab-df-container\">\n",
              "      <div>\n",
              "<style scoped>\n",
              "    .dataframe tbody tr th:only-of-type {\n",
              "        vertical-align: middle;\n",
              "    }\n",
              "\n",
              "    .dataframe tbody tr th {\n",
              "        vertical-align: top;\n",
              "    }\n",
              "\n",
              "    .dataframe thead th {\n",
              "        text-align: right;\n",
              "    }\n",
              "</style>\n",
              "<table border=\"1\" class=\"dataframe\">\n",
              "  <thead>\n",
              "    <tr style=\"text-align: right;\">\n",
              "      <th></th>\n",
              "      <th>State</th>\n",
              "      <th>Count</th>\n",
              "    </tr>\n",
              "  </thead>\n",
              "  <tbody>\n",
              "    <tr>\n",
              "      <th>0</th>\n",
              "      <td>Georgia</td>\n",
              "      <td>288</td>\n",
              "    </tr>\n",
              "    <tr>\n",
              "      <th>1</th>\n",
              "      <td>Florida</td>\n",
              "      <td>240</td>\n",
              "    </tr>\n",
              "    <tr>\n",
              "      <th>2</th>\n",
              "      <td>California</td>\n",
              "      <td>220</td>\n",
              "    </tr>\n",
              "    <tr>\n",
              "      <th>3</th>\n",
              "      <td>Illinois</td>\n",
              "      <td>164</td>\n",
              "    </tr>\n",
              "    <tr>\n",
              "      <th>4</th>\n",
              "      <td>Tennessee</td>\n",
              "      <td>143</td>\n",
              "    </tr>\n",
              "  </tbody>\n",
              "</table>\n",
              "</div>\n",
              "      <button class=\"colab-df-convert\" onclick=\"convertToInteractive('df-9c6ff311-c816-4805-889f-ccd0837fe510')\"\n",
              "              title=\"Convert this dataframe to an interactive table.\"\n",
              "              style=\"display:none;\">\n",
              "        \n",
              "  <svg xmlns=\"http://www.w3.org/2000/svg\" height=\"24px\"viewBox=\"0 0 24 24\"\n",
              "       width=\"24px\">\n",
              "    <path d=\"M0 0h24v24H0V0z\" fill=\"none\"/>\n",
              "    <path d=\"M18.56 5.44l.94 2.06.94-2.06 2.06-.94-2.06-.94-.94-2.06-.94 2.06-2.06.94zm-11 1L8.5 8.5l.94-2.06 2.06-.94-2.06-.94L8.5 2.5l-.94 2.06-2.06.94zm10 10l.94 2.06.94-2.06 2.06-.94-2.06-.94-.94-2.06-.94 2.06-2.06.94z\"/><path d=\"M17.41 7.96l-1.37-1.37c-.4-.4-.92-.59-1.43-.59-.52 0-1.04.2-1.43.59L10.3 9.45l-7.72 7.72c-.78.78-.78 2.05 0 2.83L4 21.41c.39.39.9.59 1.41.59.51 0 1.02-.2 1.41-.59l7.78-7.78 2.81-2.81c.8-.78.8-2.07 0-2.86zM5.41 20L4 18.59l7.72-7.72 1.47 1.35L5.41 20z\"/>\n",
              "  </svg>\n",
              "      </button>\n",
              "      \n",
              "  <style>\n",
              "    .colab-df-container {\n",
              "      display:flex;\n",
              "      flex-wrap:wrap;\n",
              "      gap: 12px;\n",
              "    }\n",
              "\n",
              "    .colab-df-convert {\n",
              "      background-color: #E8F0FE;\n",
              "      border: none;\n",
              "      border-radius: 50%;\n",
              "      cursor: pointer;\n",
              "      display: none;\n",
              "      fill: #1967D2;\n",
              "      height: 32px;\n",
              "      padding: 0 0 0 0;\n",
              "      width: 32px;\n",
              "    }\n",
              "\n",
              "    .colab-df-convert:hover {\n",
              "      background-color: #E2EBFA;\n",
              "      box-shadow: 0px 1px 2px rgba(60, 64, 67, 0.3), 0px 1px 3px 1px rgba(60, 64, 67, 0.15);\n",
              "      fill: #174EA6;\n",
              "    }\n",
              "\n",
              "    [theme=dark] .colab-df-convert {\n",
              "      background-color: #3B4455;\n",
              "      fill: #D2E3FC;\n",
              "    }\n",
              "\n",
              "    [theme=dark] .colab-df-convert:hover {\n",
              "      background-color: #434B5C;\n",
              "      box-shadow: 0px 1px 3px 1px rgba(0, 0, 0, 0.15);\n",
              "      filter: drop-shadow(0px 1px 2px rgba(0, 0, 0, 0.3));\n",
              "      fill: #FFFFFF;\n",
              "    }\n",
              "  </style>\n",
              "\n",
              "      <script>\n",
              "        const buttonEl =\n",
              "          document.querySelector('#df-9c6ff311-c816-4805-889f-ccd0837fe510 button.colab-df-convert');\n",
              "        buttonEl.style.display =\n",
              "          google.colab.kernel.accessAllowed ? 'block' : 'none';\n",
              "\n",
              "        async function convertToInteractive(key) {\n",
              "          const element = document.querySelector('#df-9c6ff311-c816-4805-889f-ccd0837fe510');\n",
              "          const dataTable =\n",
              "            await google.colab.kernel.invokeFunction('convertToInteractive',\n",
              "                                                     [key], {});\n",
              "          if (!dataTable) return;\n",
              "\n",
              "          const docLinkHtml = 'Like what you see? Visit the ' +\n",
              "            '<a target=\"_blank\" href=https://colab.research.google.com/notebooks/data_table.ipynb>data table notebook</a>'\n",
              "            + ' to learn more about interactive tables.';\n",
              "          element.innerHTML = '';\n",
              "          dataTable['output_type'] = 'display_data';\n",
              "          await google.colab.output.renderOutput(dataTable, element);\n",
              "          const docLink = document.createElement('div');\n",
              "          docLink.innerHTML = docLinkHtml;\n",
              "          element.appendChild(docLink);\n",
              "        }\n",
              "      </script>\n",
              "    </div>\n",
              "  </div>\n",
              "  "
            ]
          },
          "metadata": {},
          "execution_count": 19
        }
      ],
      "source": [
        "## Provide state wise status of complaints in a stacked bar chart. \n",
        "## Use the categorized variable from above data. Provide insights on:\n",
        "\n",
        "## 1. Which state has the maximum complaints\n",
        "## 2. Which state has the highest percentage of unresolved complaints\n",
        "\n",
        "df.groupby([\"State\"]).size().sort_values(ascending=False).to_frame().reset_index().rename({0: \"Count\"}, axis=1)[ : 5]\n",
        "\n",
        "## ANS : Georgia state has maximum complaints"
      ]
    },
    {
      "cell_type": "code",
      "execution_count": null,
      "metadata": {
        "colab": {
          "base_uri": "https://localhost:8080/",
          "height": 1000
        },
        "id": "-LzazvBaReha",
        "outputId": "d889f3d8-99d3-43a5-bf41-39a342ebbae0"
      },
      "outputs": [
        {
          "output_type": "execute_result",
          "data": {
            "text/plain": [
              "newStatus             Closed  Open\n",
              "State                             \n",
              "Alabama                 17.0   9.0\n",
              "Arizona                 14.0   6.0\n",
              "Arkansas                 6.0   0.0\n",
              "California             159.0  61.0\n",
              "Colorado                58.0  22.0\n",
              "Connecticut              9.0   3.0\n",
              "Delaware                 8.0   4.0\n",
              "District Of Columbia    14.0   2.0\n",
              "District of Columbia     1.0   0.0\n",
              "Florida                201.0  39.0\n",
              "Georgia                208.0  80.0\n",
              "Illinois               135.0  29.0\n",
              "Indiana                 50.0   9.0\n",
              "Iowa                     1.0   0.0\n",
              "Kansas                   1.0   1.0\n",
              "Kentucky                 4.0   3.0\n",
              "Louisiana               12.0   1.0\n",
              "Maine                    3.0   2.0\n",
              "Maryland                63.0  15.0\n",
              "Massachusetts           50.0  11.0\n",
              "Michigan                92.0  23.0\n",
              "Minnesota               29.0   4.0\n",
              "Mississippi             23.0  16.0\n",
              "Missouri                 3.0   1.0\n",
              "Montana                  1.0   0.0\n",
              "Nevada                   1.0   0.0\n",
              "New Hampshire            8.0   4.0\n",
              "New Jersey              56.0  19.0\n",
              "New Mexico              11.0   4.0\n",
              "New York                 6.0   0.0\n",
              "North Carolina           3.0   0.0\n",
              "Ohio                     3.0   0.0\n",
              "Oregon                  36.0  13.0\n",
              "Pennsylvania           110.0  20.0\n",
              "Rhode Island             1.0   0.0\n",
              "South Carolina          15.0   3.0\n",
              "Tennessee               96.0  47.0\n",
              "Texas                   49.0  22.0\n",
              "Utah                    16.0   6.0\n",
              "Vermont                  2.0   1.0\n",
              "Virginia                49.0  11.0\n",
              "Washington              75.0  23.0\n",
              "West Virginia            8.0   3.0"
            ],
            "text/html": [
              "\n",
              "  <div id=\"df-8df2aeb7-96e2-4589-8249-6e4e675490c6\">\n",
              "    <div class=\"colab-df-container\">\n",
              "      <div>\n",
              "<style scoped>\n",
              "    .dataframe tbody tr th:only-of-type {\n",
              "        vertical-align: middle;\n",
              "    }\n",
              "\n",
              "    .dataframe tbody tr th {\n",
              "        vertical-align: top;\n",
              "    }\n",
              "\n",
              "    .dataframe thead th {\n",
              "        text-align: right;\n",
              "    }\n",
              "</style>\n",
              "<table border=\"1\" class=\"dataframe\">\n",
              "  <thead>\n",
              "    <tr style=\"text-align: right;\">\n",
              "      <th>newStatus</th>\n",
              "      <th>Closed</th>\n",
              "      <th>Open</th>\n",
              "    </tr>\n",
              "    <tr>\n",
              "      <th>State</th>\n",
              "      <th></th>\n",
              "      <th></th>\n",
              "    </tr>\n",
              "  </thead>\n",
              "  <tbody>\n",
              "    <tr>\n",
              "      <th>Alabama</th>\n",
              "      <td>17.0</td>\n",
              "      <td>9.0</td>\n",
              "    </tr>\n",
              "    <tr>\n",
              "      <th>Arizona</th>\n",
              "      <td>14.0</td>\n",
              "      <td>6.0</td>\n",
              "    </tr>\n",
              "    <tr>\n",
              "      <th>Arkansas</th>\n",
              "      <td>6.0</td>\n",
              "      <td>0.0</td>\n",
              "    </tr>\n",
              "    <tr>\n",
              "      <th>California</th>\n",
              "      <td>159.0</td>\n",
              "      <td>61.0</td>\n",
              "    </tr>\n",
              "    <tr>\n",
              "      <th>Colorado</th>\n",
              "      <td>58.0</td>\n",
              "      <td>22.0</td>\n",
              "    </tr>\n",
              "    <tr>\n",
              "      <th>Connecticut</th>\n",
              "      <td>9.0</td>\n",
              "      <td>3.0</td>\n",
              "    </tr>\n",
              "    <tr>\n",
              "      <th>Delaware</th>\n",
              "      <td>8.0</td>\n",
              "      <td>4.0</td>\n",
              "    </tr>\n",
              "    <tr>\n",
              "      <th>District Of Columbia</th>\n",
              "      <td>14.0</td>\n",
              "      <td>2.0</td>\n",
              "    </tr>\n",
              "    <tr>\n",
              "      <th>District of Columbia</th>\n",
              "      <td>1.0</td>\n",
              "      <td>0.0</td>\n",
              "    </tr>\n",
              "    <tr>\n",
              "      <th>Florida</th>\n",
              "      <td>201.0</td>\n",
              "      <td>39.0</td>\n",
              "    </tr>\n",
              "    <tr>\n",
              "      <th>Georgia</th>\n",
              "      <td>208.0</td>\n",
              "      <td>80.0</td>\n",
              "    </tr>\n",
              "    <tr>\n",
              "      <th>Illinois</th>\n",
              "      <td>135.0</td>\n",
              "      <td>29.0</td>\n",
              "    </tr>\n",
              "    <tr>\n",
              "      <th>Indiana</th>\n",
              "      <td>50.0</td>\n",
              "      <td>9.0</td>\n",
              "    </tr>\n",
              "    <tr>\n",
              "      <th>Iowa</th>\n",
              "      <td>1.0</td>\n",
              "      <td>0.0</td>\n",
              "    </tr>\n",
              "    <tr>\n",
              "      <th>Kansas</th>\n",
              "      <td>1.0</td>\n",
              "      <td>1.0</td>\n",
              "    </tr>\n",
              "    <tr>\n",
              "      <th>Kentucky</th>\n",
              "      <td>4.0</td>\n",
              "      <td>3.0</td>\n",
              "    </tr>\n",
              "    <tr>\n",
              "      <th>Louisiana</th>\n",
              "      <td>12.0</td>\n",
              "      <td>1.0</td>\n",
              "    </tr>\n",
              "    <tr>\n",
              "      <th>Maine</th>\n",
              "      <td>3.0</td>\n",
              "      <td>2.0</td>\n",
              "    </tr>\n",
              "    <tr>\n",
              "      <th>Maryland</th>\n",
              "      <td>63.0</td>\n",
              "      <td>15.0</td>\n",
              "    </tr>\n",
              "    <tr>\n",
              "      <th>Massachusetts</th>\n",
              "      <td>50.0</td>\n",
              "      <td>11.0</td>\n",
              "    </tr>\n",
              "    <tr>\n",
              "      <th>Michigan</th>\n",
              "      <td>92.0</td>\n",
              "      <td>23.0</td>\n",
              "    </tr>\n",
              "    <tr>\n",
              "      <th>Minnesota</th>\n",
              "      <td>29.0</td>\n",
              "      <td>4.0</td>\n",
              "    </tr>\n",
              "    <tr>\n",
              "      <th>Mississippi</th>\n",
              "      <td>23.0</td>\n",
              "      <td>16.0</td>\n",
              "    </tr>\n",
              "    <tr>\n",
              "      <th>Missouri</th>\n",
              "      <td>3.0</td>\n",
              "      <td>1.0</td>\n",
              "    </tr>\n",
              "    <tr>\n",
              "      <th>Montana</th>\n",
              "      <td>1.0</td>\n",
              "      <td>0.0</td>\n",
              "    </tr>\n",
              "    <tr>\n",
              "      <th>Nevada</th>\n",
              "      <td>1.0</td>\n",
              "      <td>0.0</td>\n",
              "    </tr>\n",
              "    <tr>\n",
              "      <th>New Hampshire</th>\n",
              "      <td>8.0</td>\n",
              "      <td>4.0</td>\n",
              "    </tr>\n",
              "    <tr>\n",
              "      <th>New Jersey</th>\n",
              "      <td>56.0</td>\n",
              "      <td>19.0</td>\n",
              "    </tr>\n",
              "    <tr>\n",
              "      <th>New Mexico</th>\n",
              "      <td>11.0</td>\n",
              "      <td>4.0</td>\n",
              "    </tr>\n",
              "    <tr>\n",
              "      <th>New York</th>\n",
              "      <td>6.0</td>\n",
              "      <td>0.0</td>\n",
              "    </tr>\n",
              "    <tr>\n",
              "      <th>North Carolina</th>\n",
              "      <td>3.0</td>\n",
              "      <td>0.0</td>\n",
              "    </tr>\n",
              "    <tr>\n",
              "      <th>Ohio</th>\n",
              "      <td>3.0</td>\n",
              "      <td>0.0</td>\n",
              "    </tr>\n",
              "    <tr>\n",
              "      <th>Oregon</th>\n",
              "      <td>36.0</td>\n",
              "      <td>13.0</td>\n",
              "    </tr>\n",
              "    <tr>\n",
              "      <th>Pennsylvania</th>\n",
              "      <td>110.0</td>\n",
              "      <td>20.0</td>\n",
              "    </tr>\n",
              "    <tr>\n",
              "      <th>Rhode Island</th>\n",
              "      <td>1.0</td>\n",
              "      <td>0.0</td>\n",
              "    </tr>\n",
              "    <tr>\n",
              "      <th>South Carolina</th>\n",
              "      <td>15.0</td>\n",
              "      <td>3.0</td>\n",
              "    </tr>\n",
              "    <tr>\n",
              "      <th>Tennessee</th>\n",
              "      <td>96.0</td>\n",
              "      <td>47.0</td>\n",
              "    </tr>\n",
              "    <tr>\n",
              "      <th>Texas</th>\n",
              "      <td>49.0</td>\n",
              "      <td>22.0</td>\n",
              "    </tr>\n",
              "    <tr>\n",
              "      <th>Utah</th>\n",
              "      <td>16.0</td>\n",
              "      <td>6.0</td>\n",
              "    </tr>\n",
              "    <tr>\n",
              "      <th>Vermont</th>\n",
              "      <td>2.0</td>\n",
              "      <td>1.0</td>\n",
              "    </tr>\n",
              "    <tr>\n",
              "      <th>Virginia</th>\n",
              "      <td>49.0</td>\n",
              "      <td>11.0</td>\n",
              "    </tr>\n",
              "    <tr>\n",
              "      <th>Washington</th>\n",
              "      <td>75.0</td>\n",
              "      <td>23.0</td>\n",
              "    </tr>\n",
              "    <tr>\n",
              "      <th>West Virginia</th>\n",
              "      <td>8.0</td>\n",
              "      <td>3.0</td>\n",
              "    </tr>\n",
              "  </tbody>\n",
              "</table>\n",
              "</div>\n",
              "      <button class=\"colab-df-convert\" onclick=\"convertToInteractive('df-8df2aeb7-96e2-4589-8249-6e4e675490c6')\"\n",
              "              title=\"Convert this dataframe to an interactive table.\"\n",
              "              style=\"display:none;\">\n",
              "        \n",
              "  <svg xmlns=\"http://www.w3.org/2000/svg\" height=\"24px\"viewBox=\"0 0 24 24\"\n",
              "       width=\"24px\">\n",
              "    <path d=\"M0 0h24v24H0V0z\" fill=\"none\"/>\n",
              "    <path d=\"M18.56 5.44l.94 2.06.94-2.06 2.06-.94-2.06-.94-.94-2.06-.94 2.06-2.06.94zm-11 1L8.5 8.5l.94-2.06 2.06-.94-2.06-.94L8.5 2.5l-.94 2.06-2.06.94zm10 10l.94 2.06.94-2.06 2.06-.94-2.06-.94-.94-2.06-.94 2.06-2.06.94z\"/><path d=\"M17.41 7.96l-1.37-1.37c-.4-.4-.92-.59-1.43-.59-.52 0-1.04.2-1.43.59L10.3 9.45l-7.72 7.72c-.78.78-.78 2.05 0 2.83L4 21.41c.39.39.9.59 1.41.59.51 0 1.02-.2 1.41-.59l7.78-7.78 2.81-2.81c.8-.78.8-2.07 0-2.86zM5.41 20L4 18.59l7.72-7.72 1.47 1.35L5.41 20z\"/>\n",
              "  </svg>\n",
              "      </button>\n",
              "      \n",
              "  <style>\n",
              "    .colab-df-container {\n",
              "      display:flex;\n",
              "      flex-wrap:wrap;\n",
              "      gap: 12px;\n",
              "    }\n",
              "\n",
              "    .colab-df-convert {\n",
              "      background-color: #E8F0FE;\n",
              "      border: none;\n",
              "      border-radius: 50%;\n",
              "      cursor: pointer;\n",
              "      display: none;\n",
              "      fill: #1967D2;\n",
              "      height: 32px;\n",
              "      padding: 0 0 0 0;\n",
              "      width: 32px;\n",
              "    }\n",
              "\n",
              "    .colab-df-convert:hover {\n",
              "      background-color: #E2EBFA;\n",
              "      box-shadow: 0px 1px 2px rgba(60, 64, 67, 0.3), 0px 1px 3px 1px rgba(60, 64, 67, 0.15);\n",
              "      fill: #174EA6;\n",
              "    }\n",
              "\n",
              "    [theme=dark] .colab-df-convert {\n",
              "      background-color: #3B4455;\n",
              "      fill: #D2E3FC;\n",
              "    }\n",
              "\n",
              "    [theme=dark] .colab-df-convert:hover {\n",
              "      background-color: #434B5C;\n",
              "      box-shadow: 0px 1px 3px 1px rgba(0, 0, 0, 0.15);\n",
              "      filter: drop-shadow(0px 1px 2px rgba(0, 0, 0, 0.3));\n",
              "      fill: #FFFFFF;\n",
              "    }\n",
              "  </style>\n",
              "\n",
              "      <script>\n",
              "        const buttonEl =\n",
              "          document.querySelector('#df-8df2aeb7-96e2-4589-8249-6e4e675490c6 button.colab-df-convert');\n",
              "        buttonEl.style.display =\n",
              "          google.colab.kernel.accessAllowed ? 'block' : 'none';\n",
              "\n",
              "        async function convertToInteractive(key) {\n",
              "          const element = document.querySelector('#df-8df2aeb7-96e2-4589-8249-6e4e675490c6');\n",
              "          const dataTable =\n",
              "            await google.colab.kernel.invokeFunction('convertToInteractive',\n",
              "                                                     [key], {});\n",
              "          if (!dataTable) return;\n",
              "\n",
              "          const docLinkHtml = 'Like what you see? Visit the ' +\n",
              "            '<a target=\"_blank\" href=https://colab.research.google.com/notebooks/data_table.ipynb>data table notebook</a>'\n",
              "            + ' to learn more about interactive tables.';\n",
              "          element.innerHTML = '';\n",
              "          dataTable['output_type'] = 'display_data';\n",
              "          await google.colab.output.renderOutput(dataTable, element);\n",
              "          const docLink = document.createElement('div');\n",
              "          docLink.innerHTML = docLinkHtml;\n",
              "          element.appendChild(docLink);\n",
              "        }\n",
              "      </script>\n",
              "    </div>\n",
              "  </div>\n",
              "  "
            ]
          },
          "metadata": {},
          "execution_count": 20
        }
      ],
      "source": [
        "## \n",
        "Status_complaints = df.groupby([\"State\",\"newStatus\"]).size().unstack().fillna(0)\n",
        "Status_complaints"
      ]
    },
    {
      "cell_type": "code",
      "execution_count": null,
      "metadata": {
        "colab": {
          "base_uri": "https://localhost:8080/",
          "height": 1000
        },
        "id": "wq7kYTNURp12",
        "outputId": "796320ec-9330-47d8-e85a-ef036495f3b9"
      },
      "outputs": [
        {
          "output_type": "execute_result",
          "data": {
            "text/plain": [
              "<matplotlib.axes._subplots.AxesSubplot at 0x7fa3aeb43370>"
            ]
          },
          "metadata": {},
          "execution_count": 21
        },
        {
          "output_type": "display_data",
          "data": {
            "text/plain": [
              "<Figure size 2160x3600 with 1 Axes>"
            ],
            "image/png": "[encoded data removed]"
          },
          "metadata": {
            "needs_background": "light"
          }
        }
      ],
      "source": [
        "Status_complaints.plot(kind=\"barh\", figsize=(30,50), stacked=True)"
      ]
    },
    {
      "cell_type": "code",
      "execution_count": null,
      "metadata": {
        "colab": {
          "base_uri": "https://localhost:8080/",
          "height": 81
        },
        "id": "7_ywR7rZLlRc",
        "outputId": "f2346d3e-8078-4fcb-8f0c-6e4b4a2885a1"
      },
      "outputs": [
        {
          "output_type": "execute_result",
          "data": {
            "text/plain": [
              "     State  Count\n",
              "0  Georgia    288"
            ],
            "text/html": [
              "\n",
              "  <div id=\"df-148a5ce0-9076-4d9f-9adc-0d3b29b40d53\">\n",
              "    <div class=\"colab-df-container\">\n",
              "      <div>\n",
              "<style scoped>\n",
              "    .dataframe tbody tr th:only-of-type {\n",
              "        vertical-align: middle;\n",
              "    }\n",
              "\n",
              "    .dataframe tbody tr th {\n",
              "        vertical-align: top;\n",
              "    }\n",
              "\n",
              "    .dataframe thead th {\n",
              "        text-align: right;\n",
              "    }\n",
              "</style>\n",
              "<table border=\"1\" class=\"dataframe\">\n",
              "  <thead>\n",
              "    <tr style=\"text-align: right;\">\n",
              "      <th></th>\n",
              "      <th>State</th>\n",
              "      <th>Count</th>\n",
              "    </tr>\n",
              "  </thead>\n",
              "  <tbody>\n",
              "    <tr>\n",
              "      <th>0</th>\n",
              "      <td>Georgia</td>\n",
              "      <td>288</td>\n",
              "    </tr>\n",
              "  </tbody>\n",
              "</table>\n",
              "</div>\n",
              "      <button class=\"colab-df-convert\" onclick=\"convertToInteractive('df-148a5ce0-9076-4d9f-9adc-0d3b29b40d53')\"\n",
              "              title=\"Convert this dataframe to an interactive table.\"\n",
              "              style=\"display:none;\">\n",
              "        \n",
              "  <svg xmlns=\"http://www.w3.org/2000/svg\" height=\"24px\"viewBox=\"0 0 24 24\"\n",
              "       width=\"24px\">\n",
              "    <path d=\"M0 0h24v24H0V0z\" fill=\"none\"/>\n",
              "    <path d=\"M18.56 5.44l.94 2.06.94-2.06 2.06-.94-2.06-.94-.94-2.06-.94 2.06-2.06.94zm-11 1L8.5 8.5l.94-2.06 2.06-.94-2.06-.94L8.5 2.5l-.94 2.06-2.06.94zm10 10l.94 2.06.94-2.06 2.06-.94-2.06-.94-.94-2.06-.94 2.06-2.06.94z\"/><path d=\"M17.41 7.96l-1.37-1.37c-.4-.4-.92-.59-1.43-.59-.52 0-1.04.2-1.43.59L10.3 9.45l-7.72 7.72c-.78.78-.78 2.05 0 2.83L4 21.41c.39.39.9.59 1.41.59.51 0 1.02-.2 1.41-.59l7.78-7.78 2.81-2.81c.8-.78.8-2.07 0-2.86zM5.41 20L4 18.59l7.72-7.72 1.47 1.35L5.41 20z\"/>\n",
              "  </svg>\n",
              "      </button>\n",
              "      \n",
              "  <style>\n",
              "    .colab-df-container {\n",
              "      display:flex;\n",
              "      flex-wrap:wrap;\n",
              "      gap: 12px;\n",
              "    }\n",
              "\n",
              "    .colab-df-convert {\n",
              "      background-color: #E8F0FE;\n",
              "      border: none;\n",
              "      border-radius: 50%;\n",
              "      cursor: pointer;\n",
              "      display: none;\n",
              "      fill: #1967D2;\n",
              "      height: 32px;\n",
              "      padding: 0 0 0 0;\n",
              "      width: 32px;\n",
              "    }\n",
              "\n",
              "    .colab-df-convert:hover {\n",
              "      background-color: #E2EBFA;\n",
              "      box-shadow: 0px 1px 2px rgba(60, 64, 67, 0.3), 0px 1px 3px 1px rgba(60, 64, 67, 0.15);\n",
              "      fill: #174EA6;\n",
              "    }\n",
              "\n",
              "    [theme=dark] .colab-df-convert {\n",
              "      background-color: #3B4455;\n",
              "      fill: #D2E3FC;\n",
              "    }\n",
              "\n",
              "    [theme=dark] .colab-df-convert:hover {\n",
              "      background-color: #434B5C;\n",
              "      box-shadow: 0px 1px 3px 1px rgba(0, 0, 0, 0.15);\n",
              "      filter: drop-shadow(0px 1px 2px rgba(0, 0, 0, 0.3));\n",
              "      fill: #FFFFFF;\n",
              "    }\n",
              "  </style>\n",
              "\n",
              "      <script>\n",
              "        const buttonEl =\n",
              "          document.querySelector('#df-148a5ce0-9076-4d9f-9adc-0d3b29b40d53 button.colab-df-convert');\n",
              "        buttonEl.style.display =\n",
              "          google.colab.kernel.accessAllowed ? 'block' : 'none';\n",
              "\n",
              "        async function convertToInteractive(key) {\n",
              "          const element = document.querySelector('#df-148a5ce0-9076-4d9f-9adc-0d3b29b40d53');\n",
              "          const dataTable =\n",
              "            await google.colab.kernel.invokeFunction('convertToInteractive',\n",
              "                                                     [key], {});\n",
              "          if (!dataTable) return;\n",
              "\n",
              "          const docLinkHtml = 'Like what you see? Visit the ' +\n",
              "            '<a target=\"_blank\" href=https://colab.research.google.com/notebooks/data_table.ipynb>data table notebook</a>'\n",
              "            + ' to learn more about interactive tables.';\n",
              "          element.innerHTML = '';\n",
              "          dataTable['output_type'] = 'display_data';\n",
              "          await google.colab.output.renderOutput(dataTable, element);\n",
              "          const docLink = document.createElement('div');\n",
              "          docLink.innerHTML = docLinkHtml;\n",
              "          element.appendChild(docLink);\n",
              "        }\n",
              "      </script>\n",
              "    </div>\n",
              "  </div>\n",
              "  "
            ]
          },
          "metadata": {},
          "execution_count": 22
        }
      ],
      "source": [
        "df.groupby([\"State\"]).size().sort_values(ascending=False).to_frame().reset_index().rename({0: \"Count\"}, axis=1)[:1]"
      ]
    },
    {
      "cell_type": "code",
      "execution_count": null,
      "metadata": {
        "colab": {
          "base_uri": "https://localhost:8080/"
        },
        "id": "KKMAnk_pXXuG",
        "outputId": "36c9e656-2c6a-43ad-8dee-9dea881366bf"
      },
      "outputs": [
        {
          "output_type": "execute_result",
          "data": {
            "text/plain": [
              "newStatus\n",
              "Closed    208.0\n",
              "Open       80.0\n",
              "dtype: float64"
            ]
          },
          "metadata": {},
          "execution_count": 23
        }
      ],
      "source": [
        "df.groupby([\"State\",\"newStatus\"]).size().unstack().fillna(0).max()"
      ]
    },
    {
      "cell_type": "code",
      "execution_count": null,
      "metadata": {
        "colab": {
          "base_uri": "https://localhost:8080/",
          "height": 269
        },
        "id": "GC12LQWjGkul",
        "outputId": "25836f3f-feb4-42d2-a0ae-ab2959cf7b76"
      },
      "outputs": [
        {
          "output_type": "execute_result",
          "data": {
            "text/plain": [
              "newStatus    Closed  Open  % Unresolved Complaints\n",
              "State                                             \n",
              "Kansas          1.0   1.0                50.000000\n",
              "Kentucky        4.0   3.0                42.857143\n",
              "Mississippi    23.0  16.0                41.025641\n",
              "Maine           3.0   2.0                40.000000\n",
              "Alabama        17.0   9.0                34.615385\n",
              "Vermont         2.0   1.0                33.333333"
            ],
            "text/html": [
              "\n",
              "  <div id=\"df-c86919fd-1011-4a54-af49-2b3da55fee03\">\n",
              "    <div class=\"colab-df-container\">\n",
              "      <div>\n",
              "<style scoped>\n",
              "    .dataframe tbody tr th:only-of-type {\n",
              "        vertical-align: middle;\n",
              "    }\n",
              "\n",
              "    .dataframe tbody tr th {\n",
              "        vertical-align: top;\n",
              "    }\n",
              "\n",
              "    .dataframe thead th {\n",
              "        text-align: right;\n",
              "    }\n",
              "</style>\n",
              "<table border=\"1\" class=\"dataframe\">\n",
              "  <thead>\n",
              "    <tr style=\"text-align: right;\">\n",
              "      <th>newStatus</th>\n",
              "      <th>Closed</th>\n",
              "      <th>Open</th>\n",
              "      <th>% Unresolved Complaints</th>\n",
              "    </tr>\n",
              "    <tr>\n",
              "      <th>State</th>\n",
              "      <th></th>\n",
              "      <th></th>\n",
              "      <th></th>\n",
              "    </tr>\n",
              "  </thead>\n",
              "  <tbody>\n",
              "    <tr>\n",
              "      <th>Kansas</th>\n",
              "      <td>1.0</td>\n",
              "      <td>1.0</td>\n",
              "      <td>50.000000</td>\n",
              "    </tr>\n",
              "    <tr>\n",
              "      <th>Kentucky</th>\n",
              "      <td>4.0</td>\n",
              "      <td>3.0</td>\n",
              "      <td>42.857143</td>\n",
              "    </tr>\n",
              "    <tr>\n",
              "      <th>Mississippi</th>\n",
              "      <td>23.0</td>\n",
              "      <td>16.0</td>\n",
              "      <td>41.025641</td>\n",
              "    </tr>\n",
              "    <tr>\n",
              "      <th>Maine</th>\n",
              "      <td>3.0</td>\n",
              "      <td>2.0</td>\n",
              "      <td>40.000000</td>\n",
              "    </tr>\n",
              "    <tr>\n",
              "      <th>Alabama</th>\n",
              "      <td>17.0</td>\n",
              "      <td>9.0</td>\n",
              "      <td>34.615385</td>\n",
              "    </tr>\n",
              "    <tr>\n",
              "      <th>Vermont</th>\n",
              "      <td>2.0</td>\n",
              "      <td>1.0</td>\n",
              "      <td>33.333333</td>\n",
              "    </tr>\n",
              "  </tbody>\n",
              "</table>\n",
              "</div>\n",
              "      <button class=\"colab-df-convert\" onclick=\"convertToInteractive('df-c86919fd-1011-4a54-af49-2b3da55fee03')\"\n",
              "              title=\"Convert this dataframe to an interactive table.\"\n",
              "              style=\"display:none;\">\n",
              "        \n",
              "  <svg xmlns=\"http://www.w3.org/2000/svg\" height=\"24px\"viewBox=\"0 0 24 24\"\n",
              "       width=\"24px\">\n",
              "    <path d=\"M0 0h24v24H0V0z\" fill=\"none\"/>\n",
              "    <path d=\"M18.56 5.44l.94 2.06.94-2.06 2.06-.94-2.06-.94-.94-2.06-.94 2.06-2.06.94zm-11 1L8.5 8.5l.94-2.06 2.06-.94-2.06-.94L8.5 2.5l-.94 2.06-2.06.94zm10 10l.94 2.06.94-2.06 2.06-.94-2.06-.94-.94-2.06-.94 2.06-2.06.94z\"/><path d=\"M17.41 7.96l-1.37-1.37c-.4-.4-.92-.59-1.43-.59-.52 0-1.04.2-1.43.59L10.3 9.45l-7.72 7.72c-.78.78-.78 2.05 0 2.83L4 21.41c.39.39.9.59 1.41.59.51 0 1.02-.2 1.41-.59l7.78-7.78 2.81-2.81c.8-.78.8-2.07 0-2.86zM5.41 20L4 18.59l7.72-7.72 1.47 1.35L5.41 20z\"/>\n",
              "  </svg>\n",
              "      </button>\n",
              "      \n",
              "  <style>\n",
              "    .colab-df-container {\n",
              "      display:flex;\n",
              "      flex-wrap:wrap;\n",
              "      gap: 12px;\n",
              "    }\n",
              "\n",
              "    .colab-df-convert {\n",
              "      background-color: #E8F0FE;\n",
              "      border: none;\n",
              "      border-radius: 50%;\n",
              "      cursor: pointer;\n",
              "      display: none;\n",
              "      fill: #1967D2;\n",
              "      height: 32px;\n",
              "      padding: 0 0 0 0;\n",
              "      width: 32px;\n",
              "    }\n",
              "\n",
              "    .colab-df-convert:hover {\n",
              "      background-color: #E2EBFA;\n",
              "      box-shadow: 0px 1px 2px rgba(60, 64, 67, 0.3), 0px 1px 3px 1px rgba(60, 64, 67, 0.15);\n",
              "      fill: #174EA6;\n",
              "    }\n",
              "\n",
              "    [theme=dark] .colab-df-convert {\n",
              "      background-color: #3B4455;\n",
              "      fill: #D2E3FC;\n",
              "    }\n",
              "\n",
              "    [theme=dark] .colab-df-convert:hover {\n",
              "      background-color: #434B5C;\n",
              "      box-shadow: 0px 1px 3px 1px rgba(0, 0, 0, 0.15);\n",
              "      filter: drop-shadow(0px 1px 2px rgba(0, 0, 0, 0.3));\n",
              "      fill: #FFFFFF;\n",
              "    }\n",
              "  </style>\n",
              "\n",
              "      <script>\n",
              "        const buttonEl =\n",
              "          document.querySelector('#df-c86919fd-1011-4a54-af49-2b3da55fee03 button.colab-df-convert');\n",
              "        buttonEl.style.display =\n",
              "          google.colab.kernel.accessAllowed ? 'block' : 'none';\n",
              "\n",
              "        async function convertToInteractive(key) {\n",
              "          const element = document.querySelector('#df-c86919fd-1011-4a54-af49-2b3da55fee03');\n",
              "          const dataTable =\n",
              "            await google.colab.kernel.invokeFunction('convertToInteractive',\n",
              "                                                     [key], {});\n",
              "          if (!dataTable) return;\n",
              "\n",
              "          const docLinkHtml = 'Like what you see? Visit the ' +\n",
              "            '<a target=\"_blank\" href=https://colab.research.google.com/notebooks/data_table.ipynb>data table notebook</a>'\n",
              "            + ' to learn more about interactive tables.';\n",
              "          element.innerHTML = '';\n",
              "          dataTable['output_type'] = 'display_data';\n",
              "          await google.colab.output.renderOutput(dataTable, element);\n",
              "          const docLink = document.createElement('div');\n",
              "          docLink.innerHTML = docLinkHtml;\n",
              "          element.appendChild(docLink);\n",
              "        }\n",
              "      </script>\n",
              "    </div>\n",
              "  </div>\n",
              "  "
            ]
          },
          "metadata": {},
          "execution_count": 24
        }
      ],
      "source": [
        "## Extra code done for participants \n",
        "## \n",
        "Status_complaints = df.groupby([\"State\",\"newStatus\"]).size().unstack().fillna(0)\n",
        "Status_complaints['% Unresolved Complaints']=np.divide(Status_complaints['Open'],np.add(Status_complaints['Open'],Status_complaints['Closed']))*100\n",
        "Status_complaints = Status_complaints.sort_values(by='% Unresolved Complaints',ascending=False)\n",
        "Status_complaints.head(6)\n",
        "\n",
        "## H.W\n",
        "## WE NEED to first filter our data on absolute basis and then apply above logic. \n",
        "## We would keep all those rows , where n(Open) > 0.5 * mean(Open)\n",
        "## Now apply above logic "
      ]
    },
    {
      "cell_type": "code",
      "execution_count": null,
      "metadata": {
        "colab": {
          "base_uri": "https://localhost:8080/",
          "height": 237
        },
        "id": "kcPUHlLbqx0q",
        "outputId": "4594d709-3609-4ac1-dd83-debce42586a5"
      },
      "outputs": [
        {
          "output_type": "execute_result",
          "data": {
            "text/plain": [
              "newStatus    Closed  Open  % Unresolved Complaints\n",
              "State                                             \n",
              "Mississippi    23.0  16.0                41.025641\n",
              "Alabama        17.0   9.0                34.615385\n",
              "Tennessee      96.0  47.0                32.867133\n",
              "Texas          49.0  22.0                30.985915\n",
              "Georgia       208.0  80.0                27.777778"
            ],
            "text/html": [
              "\n",
              "  <div id=\"df-a4bd8183-af10-4752-9ebb-2874e573650b\">\n",
              "    <div class=\"colab-df-container\">\n",
              "      <div>\n",
              "<style scoped>\n",
              "    .dataframe tbody tr th:only-of-type {\n",
              "        vertical-align: middle;\n",
              "    }\n",
              "\n",
              "    .dataframe tbody tr th {\n",
              "        vertical-align: top;\n",
              "    }\n",
              "\n",
              "    .dataframe thead th {\n",
              "        text-align: right;\n",
              "    }\n",
              "</style>\n",
              "<table border=\"1\" class=\"dataframe\">\n",
              "  <thead>\n",
              "    <tr style=\"text-align: right;\">\n",
              "      <th>newStatus</th>\n",
              "      <th>Closed</th>\n",
              "      <th>Open</th>\n",
              "      <th>% Unresolved Complaints</th>\n",
              "    </tr>\n",
              "    <tr>\n",
              "      <th>State</th>\n",
              "      <th></th>\n",
              "      <th></th>\n",
              "      <th></th>\n",
              "    </tr>\n",
              "  </thead>\n",
              "  <tbody>\n",
              "    <tr>\n",
              "      <th>Mississippi</th>\n",
              "      <td>23.0</td>\n",
              "      <td>16.0</td>\n",
              "      <td>41.025641</td>\n",
              "    </tr>\n",
              "    <tr>\n",
              "      <th>Alabama</th>\n",
              "      <td>17.0</td>\n",
              "      <td>9.0</td>\n",
              "      <td>34.615385</td>\n",
              "    </tr>\n",
              "    <tr>\n",
              "      <th>Tennessee</th>\n",
              "      <td>96.0</td>\n",
              "      <td>47.0</td>\n",
              "      <td>32.867133</td>\n",
              "    </tr>\n",
              "    <tr>\n",
              "      <th>Texas</th>\n",
              "      <td>49.0</td>\n",
              "      <td>22.0</td>\n",
              "      <td>30.985915</td>\n",
              "    </tr>\n",
              "    <tr>\n",
              "      <th>Georgia</th>\n",
              "      <td>208.0</td>\n",
              "      <td>80.0</td>\n",
              "      <td>27.777778</td>\n",
              "    </tr>\n",
              "  </tbody>\n",
              "</table>\n",
              "</div>\n",
              "      <button class=\"colab-df-convert\" onclick=\"convertToInteractive('df-a4bd8183-af10-4752-9ebb-2874e573650b')\"\n",
              "              title=\"Convert this dataframe to an interactive table.\"\n",
              "              style=\"display:none;\">\n",
              "        \n",
              "  <svg xmlns=\"http://www.w3.org/2000/svg\" height=\"24px\"viewBox=\"0 0 24 24\"\n",
              "       width=\"24px\">\n",
              "    <path d=\"M0 0h24v24H0V0z\" fill=\"none\"/>\n",
              "    <path d=\"M18.56 5.44l.94 2.06.94-2.06 2.06-.94-2.06-.94-.94-2.06-.94 2.06-2.06.94zm-11 1L8.5 8.5l.94-2.06 2.06-.94-2.06-.94L8.5 2.5l-.94 2.06-2.06.94zm10 10l.94 2.06.94-2.06 2.06-.94-2.06-.94-.94-2.06-.94 2.06-2.06.94z\"/><path d=\"M17.41 7.96l-1.37-1.37c-.4-.4-.92-.59-1.43-.59-.52 0-1.04.2-1.43.59L10.3 9.45l-7.72 7.72c-.78.78-.78 2.05 0 2.83L4 21.41c.39.39.9.59 1.41.59.51 0 1.02-.2 1.41-.59l7.78-7.78 2.81-2.81c.8-.78.8-2.07 0-2.86zM5.41 20L4 18.59l7.72-7.72 1.47 1.35L5.41 20z\"/>\n",
              "  </svg>\n",
              "      </button>\n",
              "      \n",
              "  <style>\n",
              "    .colab-df-container {\n",
              "      display:flex;\n",
              "      flex-wrap:wrap;\n",
              "      gap: 12px;\n",
              "    }\n",
              "\n",
              "    .colab-df-convert {\n",
              "      background-color: #E8F0FE;\n",
              "      border: none;\n",
              "      border-radius: 50%;\n",
              "      cursor: pointer;\n",
              "      display: none;\n",
              "      fill: #1967D2;\n",
              "      height: 32px;\n",
              "      padding: 0 0 0 0;\n",
              "      width: 32px;\n",
              "    }\n",
              "\n",
              "    .colab-df-convert:hover {\n",
              "      background-color: #E2EBFA;\n",
              "      box-shadow: 0px 1px 2px rgba(60, 64, 67, 0.3), 0px 1px 3px 1px rgba(60, 64, 67, 0.15);\n",
              "      fill: #174EA6;\n",
              "    }\n",
              "\n",
              "    [theme=dark] .colab-df-convert {\n",
              "      background-color: #3B4455;\n",
              "      fill: #D2E3FC;\n",
              "    }\n",
              "\n",
              "    [theme=dark] .colab-df-convert:hover {\n",
              "      background-color: #434B5C;\n",
              "      box-shadow: 0px 1px 3px 1px rgba(0, 0, 0, 0.15);\n",
              "      filter: drop-shadow(0px 1px 2px rgba(0, 0, 0, 0.3));\n",
              "      fill: #FFFFFF;\n",
              "    }\n",
              "  </style>\n",
              "\n",
              "      <script>\n",
              "        const buttonEl =\n",
              "          document.querySelector('#df-a4bd8183-af10-4752-9ebb-2874e573650b button.colab-df-convert');\n",
              "        buttonEl.style.display =\n",
              "          google.colab.kernel.accessAllowed ? 'block' : 'none';\n",
              "\n",
              "        async function convertToInteractive(key) {\n",
              "          const element = document.querySelector('#df-a4bd8183-af10-4752-9ebb-2874e573650b');\n",
              "          const dataTable =\n",
              "            await google.colab.kernel.invokeFunction('convertToInteractive',\n",
              "                                                     [key], {});\n",
              "          if (!dataTable) return;\n",
              "\n",
              "          const docLinkHtml = 'Like what you see? Visit the ' +\n",
              "            '<a target=\"_blank\" href=https://colab.research.google.com/notebooks/data_table.ipynb>data table notebook</a>'\n",
              "            + ' to learn more about interactive tables.';\n",
              "          element.innerHTML = '';\n",
              "          dataTable['output_type'] = 'display_data';\n",
              "          await google.colab.output.renderOutput(dataTable, element);\n",
              "          const docLink = document.createElement('div');\n",
              "          docLink.innerHTML = docLinkHtml;\n",
              "          element.appendChild(docLink);\n",
              "        }\n",
              "      </script>\n",
              "    </div>\n",
              "  </div>\n",
              "  "
            ]
          },
          "metadata": {},
          "execution_count": 25
        }
      ],
      "source": [
        "## ans to above question \n",
        "Status_complaints[Status_complaints['Open'] > Status_complaints['Open'].mean()*0.5][:5]"
      ]
    },
    {
      "cell_type": "markdown",
      "metadata": {
        "id": "JEMackR5W-jV"
      },
      "source": [
        "**`IMP` ▶** Provide a table with the frequency of complaint types. Which complaint types are maximum i.e., around internet, network issues, or across any other domains.\n",
        "\n",
        "To solve the above problem we need to get deeper into GENSIM.  \n",
        "\n",
        "## Gensim - Topic Modeling for Humans\n",
        "\n",
        "<font color='red'><b>1. What is gensim?</b></font>\n",
        "\n",
        "Gensim is a `Natural Language Processing` package that does ‘Topic Modeling for Humans’ and much more.\n",
        "\n",
        "Topic modeling, is a technique to extract the underlying topics from large volumes of text. Gensim provides algorithms like **LDA** and **LSI** to do it.\n",
        "\n",
        "> **LDA stands for Linear Discriminant Analysis**\n",
        "\n",
        "> **LSI stands for Latent semantic analysis**\n",
        "\n",
        "<font color='red'><b>2. What is a Dictionary and Corpus?</b></font>\n",
        "\n",
        "In order to work on text documents, Gensim requires the words (aka tokens) be converted to unique ids. In order to achieve that, Gensim lets you create a Dictionary object that maps each word to a unique id.\n",
        "\n",
        "<font color='red'>So, how to create a Dictionary?</font> \n",
        "\n",
        "By converting your text/sentences to a [list of words] and pass it to the corpora.Dictionary() object.\n",
        "\n",
        "The dictionary object is typically used to create a ‘bag of words’ Corpus. <font color='green'><b>It is this Dictionary and the bag-of-words (Corpus) that are used as inputs to topic modeling and other models that Gensim specializes in</b></font>.\n",
        "\n",
        "> <font color='red'>What sort of text inputs can gensim handle?</font> \n",
        "\n",
        "The input text typically comes in 3 different forms:\n",
        "\n",
        "> As sentences stored in python’s native list object\n",
        "\n",
        "> As one single text file, small or large.\n",
        "\n",
        "> In multiple text files.\n",
        "\n",
        "<font color='green'><b>Some NLP jargon.</b></font>\n",
        "\n",
        "> A ‘token’ typically means a ‘word’. \n",
        "\n",
        "> A ‘document’ can typically refer to a ‘sentence’ or ‘paragraph’ and a \n",
        "\n",
        "> ‘corpus’ is typically a ‘collection of documents as a bag of words’. \n",
        "\n",
        "**NOTE** : *For each document, a corpus contains each word’s id and its frequency count in that document. As a result, information of the order of words is lost.*\n",
        "\n",
        "<font color='red'><b>3. How to create a Dictionary from a list of sentences? </b></font>\n",
        "\n",
        "In gensim, the dictionary contains a map of all words (tokens) to its unique id."
      ]
    },
    {
      "cell_type": "code",
      "execution_count": null,
      "metadata": {
        "colab": {
          "base_uri": "https://localhost:8080/"
        },
        "id": "Q57w6X8DFuen",
        "outputId": "599ace29-bf9c-40fe-df92-16d28de5ffdc"
      },
      "outputs": [
        {
          "output_type": "stream",
          "name": "stdout",
          "text": [
            "[['Natural', 'language', 'processing', 'is', 'a', 'subfield', 'of', 'linguistics,'], ['computer', 'science,', 'and', 'artificial', 'intelligence', 'concerned', 'with', 'the'], ['interactions', 'between', 'computers', 'and', 'human', 'language,', 'in', 'particular'], ['how', 'to', 'program', 'computers', 'to', 'process', 'and', 'analyze', 'large', 'amounts', 'of', 'natural', 'language', 'data.']]\n",
            "Dictionary(32 unique tokens: ['Natural', 'a', 'is', 'language', 'linguistics,']...)\n"
          ]
        }
      ],
      "source": [
        "import gensim\n",
        "from gensim import corpora\n",
        "from pprint import pprint\n",
        "\n",
        "# How to create a dictionary from a list of sentences?\n",
        "documents = [\"Natural language processing is a subfield of linguistics,\", \n",
        "             \"computer science, and artificial intelligence concerned with the\", \n",
        "             \"interactions between computers and human language, in particular \", \n",
        "             \"how to program computers to process and analyze large amounts of natural language data.\"]\n",
        "\n",
        "documents_2 = [\"Data science is an interdisciplinary field that uses scientific\", \n",
        "                \"methods, processes, algorithms and systems to extract knowledge and insights from noisy, structured and unstructured data, \", \n",
        "                \"and apply knowledge and actionable insights from data across a broad range of application domains.\", \n",
        "              ]\n",
        "\n",
        "# Tokenize(split) the sentences into words\n",
        "texts = [[text for text in doc.split()] for doc in documents]\n",
        "print(texts)\n",
        "\n",
        "# Create dictionary\n",
        "dictionary = corpora.Dictionary(texts)\n",
        "\n",
        "# Get information about the dictionary\n",
        "print(dictionary)"
      ]
    },
    {
      "cell_type": "markdown",
      "source": [],
      "metadata": {
        "id": "vp96n9U68Uh5"
      }
    },
    {
      "cell_type": "code",
      "execution_count": null,
      "metadata": {
        "colab": {
          "base_uri": "https://localhost:8080/"
        },
        "id": "ZMVw4DIxF5XO",
        "outputId": "ae4ec6f3-31e2-4c53-d9c8-e244d3115127"
      },
      "outputs": [
        {
          "output_type": "stream",
          "name": "stdout",
          "text": [
            "{'Natural': 0, 'a': 1, 'is': 2, 'language': 3, 'linguistics,': 4, 'of': 5, 'processing': 6, 'subfield': 7, 'and': 8, 'artificial': 9, 'computer': 10, 'concerned': 11, 'intelligence': 12, 'science,': 13, 'the': 14, 'with': 15, 'between': 16, 'computers': 17, 'human': 18, 'in': 19, 'interactions': 20, 'language,': 21, 'particular': 22, 'amounts': 23, 'analyze': 24, 'data.': 25, 'how': 26, 'large': 27, 'natural': 28, 'process': 29, 'program': 30, 'to': 31}\n"
          ]
        }
      ],
      "source": [
        "## As it says the dictionary has 32 unique tokens (or words). \n",
        "## Let’s see the unique ids for each of these tokens.\n",
        "\n",
        "# Show the word to id map\n",
        "print(dictionary.token2id)"
      ]
    },
    {
      "cell_type": "markdown",
      "metadata": {
        "id": "eG4q-ehuGFja"
      },
      "source": [
        "We have successfully created a Dictionary object. Gensim will use this dictionary to create a bag-of-words corpus where the words in the documents are replaced with its respective id provided by this dictionary.\n",
        "\n",
        "If you get new documents in the future, it is also possible to update an existing dictionary to include the new words."
      ]
    },
    {
      "cell_type": "code",
      "execution_count": null,
      "metadata": {
        "colab": {
          "base_uri": "https://localhost:8080/"
        },
        "id": "rgqUF-tfGJNo",
        "outputId": "32ab5208-221b-4ceb-d2d1-410008003da0"
      },
      "outputs": [
        {
          "output_type": "stream",
          "name": "stdout",
          "text": [
            "Dictionary(57 unique tokens: ['Natural', 'a', 'is', 'language', 'linguistics,']...)\n",
            "{'Natural': 0, 'a': 1, 'is': 2, 'language': 3, 'linguistics,': 4, 'of': 5, 'processing': 6, 'subfield': 7, 'and': 8, 'artificial': 9, 'computer': 10, 'concerned': 11, 'intelligence': 12, 'science,': 13, 'the': 14, 'with': 15, 'between': 16, 'computers': 17, 'human': 18, 'in': 19, 'interactions': 20, 'language,': 21, 'particular': 22, 'amounts': 23, 'analyze': 24, 'data.': 25, 'how': 26, 'large': 27, 'natural': 28, 'process': 29, 'program': 30, 'to': 31, '(LSI)': 32, 'Latent': 33, 'an': 34, 'indexing': 35, 'method': 36, 'retrieval': 37, 'semantic': 38, '(SVD)': 39, 'called': 40, 'decomposition': 41, 'mathematical': 42, 'singular': 43, 'technique': 44, 'that': 45, 'uses': 46, 'value': 47, 'concepts': 48, 'identify': 49, 'patterns': 50, 'relationships': 51, 'terms': 52, 'collection': 53, 'contained': 54, 'text.': 55, 'unstructured': 56}\n"
          ]
        }
      ],
      "source": [
        "documents_2 = [\"Latent semantic indexing (LSI) is an indexing and retrieval method\",\n",
        "               \"that uses a mathematical technique called singular value decomposition (SVD)\",\n",
        "               \" to identify patterns in the relationships between the terms and concepts\",\n",
        "               \" contained in an unstructured collection of text.\"]\n",
        "\n",
        "texts_2 = [[text for text in doc.split()] for doc in documents_2]\n",
        "\n",
        "dictionary.add_documents(texts_2)\n",
        "\n",
        "# If you check now, the dictionary should have been updated with the new words (tokens).\n",
        "print(dictionary)\n",
        "\n",
        "print(dictionary.token2id)"
      ]
    },
    {
      "cell_type": "markdown",
      "metadata": {
        "id": "Y0s9uwnmG0ZT"
      },
      "source": [
        "<font color='red'><b> 4. How to create a bag of words corpus in gensim? </b></font>\n",
        "\n",
        "The next important object you need to familiarize with in order to work in gensim is the Corpus (a Bag of Words). That is, it is a corpus object that contains the word id and its frequency in each document. You can think of it as gensim’s equivalent of a Document-Term matrix."
      ]
    },
    {
      "cell_type": "code",
      "execution_count": null,
      "metadata": {
        "colab": {
          "base_uri": "https://localhost:8080/"
        },
        "id": "uHJo_cOxHNmr",
        "outputId": "b3dbbc35-ceff-4be7-ad47-0a29918df25a"
      },
      "outputs": [
        {
          "output_type": "stream",
          "name": "stdout",
          "text": [
            "[['who', 'let', 'the', 'cats', 'out'], ['who', 'who', 'who', 'who']]\n",
            "[[(0, 1), (1, 1), (2, 1), (3, 1), (4, 1)], [(4, 4)]]\n"
          ]
        }
      ],
      "source": [
        "## a dummy Example\n",
        "# List with 2 sentences\n",
        "my_docs = [\"Who let the cats out?\",\n",
        "           \"Who? Who? Who? Who?\"]\n",
        "\n",
        "# Tokenize the docs\n",
        "from gensim.utils import simple_preprocess  ## Convert a document into a list of tokens.\n",
        "tokenized_list = [simple_preprocess(doc) for doc in my_docs]\n",
        "print(tokenized_list)\n",
        "\n",
        "# Create the Corpus\n",
        "mydict = corpora.Dictionary()\n",
        "mycorpus = [mydict.doc2bow(doc, allow_update=True) for doc in tokenized_list]\n",
        "pprint(mycorpus)"
      ]
    },
    {
      "cell_type": "code",
      "source": [],
      "metadata": {
        "id": "2BvRnrPy_gYu"
      },
      "execution_count": null,
      "outputs": []
    },
    {
      "cell_type": "markdown",
      "metadata": {
        "id": "_JoxUO6NHlBi"
      },
      "source": [
        "**`How to interpret the above corpus?`**\n",
        "\n",
        "The (0, 1) in line 1 means, the word with id=0 appears once in the 1st document.\n",
        "\n",
        "Likewise, the (4, 4) in the second list item means the word with id 4 appears 4 times in the second document. And so on.\n",
        "\n",
        "Well, this is not human readable. To convert the id’s to words, you will need the dictionary to do the conversion.\n",
        "\n",
        "Let’s see how to get the original texts back."
      ]
    },
    {
      "cell_type": "code",
      "execution_count": null,
      "metadata": {
        "colab": {
          "base_uri": "https://localhost:8080/"
        },
        "id": "pjW-fmRkH9wJ",
        "outputId": "2c36b396-77c8-4b0c-a0eb-4cb1fc87b7b8"
      },
      "outputs": [
        {
          "output_type": "stream",
          "name": "stdout",
          "text": [
            "[[('cats', 1), ('let', 1), ('out', 1), ('the', 1), ('who', 1)], [('who', 4)]]\n"
          ]
        }
      ],
      "source": [
        "word_counts = [[(mydict[id], count) for id, count in line] for line in mycorpus]\n",
        "pprint(word_counts)"
      ]
    },
    {
      "cell_type": "markdown",
      "metadata": {
        "id": "aIaO_MdRIkww"
      },
      "source": [
        "<font color='red'><b>5. How to save a gensim dictionary and corpus to disk and load them back?</b></font>\n",
        "\n",
        "<pre>\n",
        "# Save the Dict and Corpus\n",
        "mydict.save('suven1.dict')  # save dict to disk\n",
        "corpora.MmCorpus.serialize('bow_corpus.mm', mycorpus)  # save corpus to disk\n",
        "</pre>"
      ]
    },
    {
      "cell_type": "code",
      "execution_count": null,
      "metadata": {
        "id": "w1fzg0K3JNdQ"
      },
      "outputs": [],
      "source": [
        "mydict.save('suven1.dict')  # save dict to disk\n",
        "corpora.MmCorpus.serialize('bow_corpus.mm', mycorpus)  # save corpus to disk\n",
        "\n",
        "## An MM file contains a \"mind map,\" \n",
        "## which is a visual diagram that consists of text, nodes, branches, shapes, \n",
        "## and icons that represent ideas.\n"
      ]
    },
    {
      "cell_type": "code",
      "execution_count": null,
      "metadata": {
        "colab": {
          "base_uri": "https://localhost:8080/"
        },
        "id": "f22lKAFeJPk-",
        "outputId": "66bfb75b-8db3-47e2-9c78-ef2be9cc7211"
      },
      "outputs": [
        {
          "output_type": "stream",
          "name": "stdout",
          "text": [
            "Dictionary(5 unique tokens: ['cats', 'let', 'out', 'the', 'who'])\n",
            "[(0, 1.0), (1, 1.0), (2, 1.0), (3, 1.0), (4, 1.0)]\n",
            "[(4, 4.0)]\n"
          ]
        }
      ],
      "source": [
        "## We have saved the dictionary and corpus objects. Let’s load them back.\n",
        "\n",
        "# Load them back\n",
        "loaded_dict = corpora.Dictionary.load('suven1.dict')\n",
        "print(loaded_dict)\n",
        "\n",
        "corpus = corpora.MmCorpus('bow_corpus.mm')\n",
        "for line in corpus:\n",
        "    print(line)"
      ]
    },
    {
      "cell_type": "markdown",
      "metadata": {
        "id": "9rXcc9-TJfz_"
      },
      "source": [
        "<font color='red'><b>6. How to create the TFIDF matrix (corpus) in gensim? </b></font>\n",
        "\n",
        "The Term Frequency – Inverse Document Frequency(TF-IDF) is also a bag-of-words model but unlike the regular corpus, TFIDF down weights tokens (words) that appears frequently across documents.\n",
        "\n",
        "\n",
        "> How is TFIDF computed ?\n",
        "\n",
        "> **Refer :  http://tfidf.com/** "
      ]
    },
    {
      "cell_type": "code",
      "execution_count": null,
      "metadata": {
        "colab": {
          "base_uri": "https://localhost:8080/"
        },
        "id": "4ME1eGaCKKmM",
        "outputId": "00706600-9bd2-43b9-c2b4-5c0ec48e5bce"
      },
      "outputs": [
        {
          "output_type": "stream",
          "name": "stdout",
          "text": [
            "[['first', 1], ['is', 1], ['line', 1], ['the', 1], ['this', 1]]\n",
            "[['is', 1], ['the', 1], ['this', 1], ['second', 1], ['sentence', 1]]\n",
            "[['this', 1], ['document', 1], ['third', 1]]\n",
            "------------------------------------------\n",
            "------------------------------------------\n",
            "[['first', 0.66], ['is', 0.24], ['line', 0.66], ['the', 0.24]]\n",
            "[['is', 0.24], ['the', 0.24], ['second', 0.66], ['sentence', 0.66]]\n",
            "[['document', 0.71], ['third', 0.71]]\n"
          ]
        }
      ],
      "source": [
        "## So, how to get the TFIDF weights?\n",
        "\n",
        "## By training the corpus with models.TfidfModel(). \n",
        "## Then, apply the corpus within the square brackets \n",
        "## of the trained tfidf model. See a dummy example below.\n",
        "\n",
        "from gensim import models\n",
        "import numpy as np\n",
        "\n",
        "documents = [\"This is the first line\",\n",
        "             \"This is the second sentence\",\n",
        "             \"This third document\"]\n",
        "\n",
        "# Create the Dictionary and Corpus\n",
        "mydict = corpora.Dictionary([simple_preprocess(line) for line in documents])\n",
        "corpus = [mydict.doc2bow(simple_preprocess(line)) for line in documents]\n",
        "\n",
        "# Show the Word Weights in Corpus\n",
        "for doc in corpus:\n",
        "    print([[mydict[id], freq] for id, freq in doc])\n",
        "\n",
        "# Create the TF-IDF model\n",
        "tfidf = models.TfidfModel(corpus, smartirs='ntc')\n",
        "## smartirs='ntc' is default value\n",
        "\n",
        "print(\"------------------------------------------\")\n",
        "print(\"------------------------------------------\")\n",
        "\n",
        "# Show the TF-IDF weights\n",
        "for doc in tfidf[corpus]:\n",
        "    print([[mydict[id], np.around(freq, decimals=2)] for id, freq in doc])\n",
        "\n",
        "\n",
        "## Notice the difference in weights of the words between the original corpus and the tfidf weighted corpus.\n",
        "## The words ‘is’ and ‘the’ occur in two documents and were weighted down. \n",
        "## The word ‘this’ appearing in all three documents was removed altogether. \n",
        "## In simple terms, words that occur more frequently across the documents get smaller weights."
      ]
    },
    {
      "cell_type": "markdown",
      "metadata": {
        "id": "M2XMmHjALCR0"
      },
      "source": [
        "<hr />\n",
        "\n",
        "### Above Information is enough to solve the last part of this case study , where , we have to find the major categories of complaints. \n",
        "\n",
        "**Note** : `Customer complaint column contains Text words hence its a NLP problem-solving`\n",
        "\n",
        "<hr />"
      ]
    },
    {
      "cell_type": "code",
      "execution_count": null,
      "metadata": {
        "colab": {
          "base_uri": "https://localhost:8080/"
        },
        "id": "kaVjfcEiYKWe",
        "outputId": "a7c880c6-76a2-4ae5-b3d1-6c47e8bad091"
      },
      "outputs": [
        {
          "output_type": "stream",
          "name": "stderr",
          "text": [
            "[nltk_data] Downloading package stopwords to /root/nltk_data...\n",
            "[nltk_data]   Unzipping corpora/stopwords.zip.\n"
          ]
        }
      ],
      "source": [
        "from nltk.corpus import stopwords\n",
        "from nltk.stem.wordnet import WordNetLemmatizer\n",
        "import string\n",
        "\n",
        "import nltk\n",
        "nltk.download('stopwords')\n",
        "\n",
        "stop = set(stopwords.words('english'))\n",
        "exclude = set(string.punctuation)\n",
        "lemma = WordNetLemmatizer()"
      ]
    },
    {
      "cell_type": "markdown",
      "metadata": {
        "id": "bHhDOFxQOwKf"
      },
      "source": [
        "### Stemming vs. Lemmatization\n",
        "\n",
        "<img src=\"https://drive.google.com/uc?id=1zzZ_2FqReCbUmARvN9xvrrPIL8MyKVPI\">\n",
        "\n",
        "<hr />\n",
        "\n",
        "<img src=\"https://drive.google.com/uc?id=1Hyz3QLypFR1Ccwi2yRvLDH8314EVjyO3\">\n",
        "\n"
      ]
    },
    {
      "cell_type": "code",
      "execution_count": null,
      "metadata": {
        "id": "qudNa7dlYcsn"
      },
      "outputs": [],
      "source": [
        "def clean(doc):\n",
        "    stop_free = \" \".join([i for i in doc.lower().split() if i not in stop])\n",
        "    punc_free = \"\".join([ch for ch in stop_free if ch not in exclude])\n",
        "    normalised = \" \".join(lemma.lemmatize(word) for word in punc_free.split())\n",
        "    return normalised"
      ]
    },
    {
      "cell_type": "code",
      "source": [
        "import nltk\n",
        "nltk.download('omw-1.4')"
      ],
      "metadata": {
        "colab": {
          "base_uri": "https://localhost:8080/"
        },
        "id": "J_muoZBJXrl2",
        "outputId": "e3baf259-85c1-4966-ff03-93cf33dda44b"
      },
      "execution_count": null,
      "outputs": [
        {
          "output_type": "stream",
          "name": "stderr",
          "text": [
            "[nltk_data] Downloading package omw-1.4 to /root/nltk_data...\n"
          ]
        },
        {
          "output_type": "execute_result",
          "data": {
            "text/plain": [
              "True"
            ]
          },
          "metadata": {},
          "execution_count": 36
        }
      ]
    },
    {
      "cell_type": "code",
      "execution_count": null,
      "metadata": {
        "colab": {
          "base_uri": "https://localhost:8080/"
        },
        "id": "7pKlAdhKYiTK",
        "outputId": "7744ef79-97c7-44b0-8d58-05a10a6dfe10"
      },
      "outputs": [
        {
          "output_type": "stream",
          "name": "stderr",
          "text": [
            "[nltk_data] Downloading package wordnet to /root/nltk_data...\n"
          ]
        }
      ],
      "source": [
        "import nltk\n",
        "nltk.download('wordnet')\n",
        "\n",
        "doc_complete = df[\"Customer Complaint\"].tolist()\n",
        "doc_clean = [clean(doc).split() for doc in doc_complete]"
      ]
    },
    {
      "cell_type": "code",
      "execution_count": null,
      "metadata": {
        "id": "_sGJ5vI5Y3Xa"
      },
      "outputs": [],
      "source": [
        "import gensim\n",
        "from gensim import corpora"
      ]
    },
    {
      "cell_type": "code",
      "execution_count": null,
      "metadata": {
        "id": "QMMrlz1XaYQ6",
        "colab": {
          "base_uri": "https://localhost:8080/"
        },
        "outputId": "178c0156-2b1f-4ef2-c9f7-8b1f72741dcb"
      },
      "outputs": [
        {
          "output_type": "stream",
          "name": "stdout",
          "text": [
            "Dictionary(1412 unique tokens: ['cable', 'comcast', 'internet', 'speed', 'disappear']...)\n"
          ]
        }
      ],
      "source": [
        "dictionary = corpora.Dictionary(doc_clean)\n",
        "print(dictionary)"
      ]
    },
    {
      "cell_type": "code",
      "execution_count": null,
      "metadata": {
        "id": "N_OWmSq6awmY",
        "colab": {
          "base_uri": "https://localhost:8080/"
        },
        "outputId": "a66f6562-c704-4bbc-cd08-e08d322bb646"
      },
      "outputs": [
        {
          "output_type": "execute_result",
          "data": {
            "text/plain": [
              "[[(0, 1), (1, 1), (2, 1), (3, 1)],\n",
              " [(4, 1), (5, 1), (6, 1), (7, 1), (8, 1)],\n",
              " [(3, 1), (8, 1)],\n",
              " [(1, 1), (9, 1), (10, 1), (11, 1), (12, 1), (13, 1), (14, 1), (15, 1)],\n",
              " [(1, 1), (8, 1), (16, 1), (17, 1)],\n",
              " [(18, 1), (19, 1), (20, 1), (21, 1), (22, 1), (23, 1), (24, 1)],\n",
              " [(8, 1), (10, 1), (20, 1), (25, 1), (26, 1)],\n",
              " [(1, 1), (8, 1), (27, 1), (28, 1), (29, 1), (30, 1)],\n",
              " [(1, 1), (31, 1), (32, 1)],\n",
              " [(1, 1), (33, 1), (34, 1), (35, 1), (36, 1)]]"
            ]
          },
          "metadata": {},
          "execution_count": 40
        }
      ],
      "source": [
        "doc_term_matrix = [dictionary.doc2bow(doc) for doc in doc_clean]\n",
        "doc_term_matrix[:10]"
      ]
    },
    {
      "cell_type": "code",
      "execution_count": null,
      "metadata": {
        "id": "532FJu4-buxV"
      },
      "outputs": [],
      "source": [
        "from gensim.models import LdaModel\n"
      ]
    },
    {
      "cell_type": "code",
      "execution_count": null,
      "metadata": {
        "id": "YPtWm4KObwbN"
      },
      "outputs": [],
      "source": [
        "Num_Topic = 9\n",
        "ldamodel = LdaModel(doc_term_matrix, num_topics= Num_Topic, id2word = dictionary, passes= 30)"
      ]
    },
    {
      "cell_type": "code",
      "execution_count": null,
      "metadata": {
        "id": "kFvmxq_Zb-q0",
        "colab": {
          "base_uri": "https://localhost:8080/"
        },
        "outputId": "2aaf6471-1f91-4c06-fdcf-53eab1520708"
      },
      "outputs": [
        {
          "output_type": "stream",
          "name": "stdout",
          "text": [
            "(0, '0.118*\"comcast\" + 0.063*\"issue\" + 0.054*\"cable\" + 0.024*\"charged\" + 0.023*\"business\" + 0.017*\"day\" + 0.017*\"phone\" + 0.014*\"connectivity\" + 0.014*\"bill\" + 0.013*\"said\"')\n",
            "\n",
            "(1, '0.087*\"comcast\" + 0.054*\"usage\" + 0.052*\"data\" + 0.033*\"deceptive\" + 0.022*\"limit\" + 0.021*\"without\" + 0.019*\"advertising\" + 0.018*\"misleading\" + 0.016*\"time\" + 0.016*\"several\"')\n",
            "\n",
            "(2, '0.211*\"service\" + 0.062*\"comcast\" + 0.050*\"customer\" + 0.035*\"poor\" + 0.021*\"terrible\" + 0.018*\"monopoly\" + 0.017*\"failure\" + 0.017*\"bill\" + 0.015*\"back\" + 0.012*\"broadband\"')\n",
            "\n",
            "(3, '0.303*\"comcast\" + 0.089*\"complaint\" + 0.079*\"charge\" + 0.029*\"service\" + 0.015*\"xfinity\" + 0.015*\"bill\" + 0.013*\"bandwidth\" + 0.011*\"account\" + 0.011*\"slowing\" + 0.010*\"unauthorized\"')\n",
            "\n",
            "(4, '0.227*\"billing\" + 0.138*\"comcast\" + 0.060*\"practice\" + 0.054*\"unfair\" + 0.043*\"issue\" + 0.035*\"pricing\" + 0.025*\"service\" + 0.018*\"monopolistic\" + 0.016*\"charging\" + 0.016*\"cramming\"')\n",
            "\n",
            "(5, '0.301*\"internet\" + 0.113*\"comcast\" + 0.104*\"speed\" + 0.075*\"service\" + 0.032*\"slow\" + 0.027*\"throttling\" + 0.019*\"connection\" + 0.016*\"problem\" + 0.013*\"false\" + 0.012*\"outage\"')\n",
            "\n",
            "(6, '0.093*\"comcast\" + 0.048*\"service\" + 0.039*\"contract\" + 0.026*\"help\" + 0.023*\"2\" + 0.021*\"year\" + 0.018*\"3\" + 0.017*\"email\" + 0.015*\"rate\" + 0.015*\"please\"')\n",
            "\n",
            "(7, '0.187*\"data\" + 0.185*\"cap\" + 0.108*\"comcast\" + 0.032*\"xfinity\" + 0.030*\"fee\" + 0.020*\"overage\" + 0.018*\"show\" + 0.016*\"monthly\" + 0.014*\"equipment\" + 0.013*\"increased\"')\n",
            "\n",
            "(8, '0.053*\"service\" + 0.040*\"paying\" + 0.035*\"comcastxfinity\" + 0.035*\"high\" + 0.034*\"without\" + 0.030*\"pay\" + 0.029*\"price\" + 0.027*\"promised\" + 0.022*\"incorrect\" + 0.021*\"payment\"')\n",
            "\n"
          ]
        }
      ],
      "source": [
        "topics = ldamodel.show_topics()\n",
        "for topic in topics:\n",
        "    print(topic)\n",
        "    print()"
      ]
    },
    {
      "cell_type": "code",
      "execution_count": null,
      "metadata": {
        "id": "oRuhSm6QcNrS"
      },
      "outputs": [],
      "source": [
        "word_dict = {}\n",
        "for i in range(Num_Topic):\n",
        "    words = ldamodel.show_topic(i, topn =10)\n",
        "    word_dict[\"Topic # \" + \"{}\".format(i)] = [i[0] for i in words]"
      ]
    },
    {
      "cell_type": "code",
      "execution_count": null,
      "metadata": {
        "id": "Xfzk2byleBjF",
        "colab": {
          "base_uri": "https://localhost:8080/",
          "height": 363
        },
        "outputId": "dd8ce5a6-5625-474b-9585-6e6a16ecedef"
      },
      "outputs": [
        {
          "output_type": "execute_result",
          "data": {
            "text/plain": [
              "      Topic # 0    Topic # 1  Topic # 2     Topic # 3     Topic # 4  \\\n",
              "0       comcast      comcast    service       comcast       billing   \n",
              "1         issue        usage    comcast     complaint       comcast   \n",
              "2         cable         data   customer        charge      practice   \n",
              "3       charged    deceptive       poor       service        unfair   \n",
              "4      business        limit   terrible       xfinity         issue   \n",
              "5           day      without   monopoly          bill       pricing   \n",
              "6         phone  advertising    failure     bandwidth       service   \n",
              "7  connectivity   misleading       bill       account  monopolistic   \n",
              "8          bill         time       back       slowing      charging   \n",
              "9          said      several  broadband  unauthorized      cramming   \n",
              "\n",
              "    Topic # 5 Topic # 6  Topic # 7       Topic # 8  \n",
              "0    internet   comcast       data         service  \n",
              "1     comcast   service        cap          paying  \n",
              "2       speed  contract    comcast  comcastxfinity  \n",
              "3     service      help    xfinity            high  \n",
              "4        slow         2        fee         without  \n",
              "5  throttling      year    overage             pay  \n",
              "6  connection         3       show           price  \n",
              "7     problem     email    monthly        promised  \n",
              "8       false      rate  equipment       incorrect  \n",
              "9      outage    please  increased         payment  "
            ],
            "text/html": [
              "\n",
              "  <div id=\"df-9b24b8f9-9f82-4b6f-85fe-682db329508b\">\n",
              "    <div class=\"colab-df-container\">\n",
              "      <div>\n",
              "<style scoped>\n",
              "    .dataframe tbody tr th:only-of-type {\n",
              "        vertical-align: middle;\n",
              "    }\n",
              "\n",
              "    .dataframe tbody tr th {\n",
              "        vertical-align: top;\n",
              "    }\n",
              "\n",
              "    .dataframe thead th {\n",
              "        text-align: right;\n",
              "    }\n",
              "</style>\n",
              "<table border=\"1\" class=\"dataframe\">\n",
              "  <thead>\n",
              "    <tr style=\"text-align: right;\">\n",
              "      <th></th>\n",
              "      <th>Topic # 0</th>\n",
              "      <th>Topic # 1</th>\n",
              "      <th>Topic # 2</th>\n",
              "      <th>Topic # 3</th>\n",
              "      <th>Topic # 4</th>\n",
              "      <th>Topic # 5</th>\n",
              "      <th>Topic # 6</th>\n",
              "      <th>Topic # 7</th>\n",
              "      <th>Topic # 8</th>\n",
              "    </tr>\n",
              "  </thead>\n",
              "  <tbody>\n",
              "    <tr>\n",
              "      <th>0</th>\n",
              "      <td>comcast</td>\n",
              "      <td>comcast</td>\n",
              "      <td>service</td>\n",
              "      <td>comcast</td>\n",
              "      <td>billing</td>\n",
              "      <td>internet</td>\n",
              "      <td>comcast</td>\n",
              "      <td>data</td>\n",
              "      <td>service</td>\n",
              "    </tr>\n",
              "    <tr>\n",
              "      <th>1</th>\n",
              "      <td>issue</td>\n",
              "      <td>usage</td>\n",
              "      <td>comcast</td>\n",
              "      <td>complaint</td>\n",
              "      <td>comcast</td>\n",
              "      <td>comcast</td>\n",
              "      <td>service</td>\n",
              "      <td>cap</td>\n",
              "      <td>paying</td>\n",
              "    </tr>\n",
              "    <tr>\n",
              "      <th>2</th>\n",
              "      <td>cable</td>\n",
              "      <td>data</td>\n",
              "      <td>customer</td>\n",
              "      <td>charge</td>\n",
              "      <td>practice</td>\n",
              "      <td>speed</td>\n",
              "      <td>contract</td>\n",
              "      <td>comcast</td>\n",
              "      <td>comcastxfinity</td>\n",
              "    </tr>\n",
              "    <tr>\n",
              "      <th>3</th>\n",
              "      <td>charged</td>\n",
              "      <td>deceptive</td>\n",
              "      <td>poor</td>\n",
              "      <td>service</td>\n",
              "      <td>unfair</td>\n",
              "      <td>service</td>\n",
              "      <td>help</td>\n",
              "      <td>xfinity</td>\n",
              "      <td>high</td>\n",
              "    </tr>\n",
              "    <tr>\n",
              "      <th>4</th>\n",
              "      <td>business</td>\n",
              "      <td>limit</td>\n",
              "      <td>terrible</td>\n",
              "      <td>xfinity</td>\n",
              "      <td>issue</td>\n",
              "      <td>slow</td>\n",
              "      <td>2</td>\n",
              "      <td>fee</td>\n",
              "      <td>without</td>\n",
              "    </tr>\n",
              "    <tr>\n",
              "      <th>5</th>\n",
              "      <td>day</td>\n",
              "      <td>without</td>\n",
              "      <td>monopoly</td>\n",
              "      <td>bill</td>\n",
              "      <td>pricing</td>\n",
              "      <td>throttling</td>\n",
              "      <td>year</td>\n",
              "      <td>overage</td>\n",
              "      <td>pay</td>\n",
              "    </tr>\n",
              "    <tr>\n",
              "      <th>6</th>\n",
              "      <td>phone</td>\n",
              "      <td>advertising</td>\n",
              "      <td>failure</td>\n",
              "      <td>bandwidth</td>\n",
              "      <td>service</td>\n",
              "      <td>connection</td>\n",
              "      <td>3</td>\n",
              "      <td>show</td>\n",
              "      <td>price</td>\n",
              "    </tr>\n",
              "    <tr>\n",
              "      <th>7</th>\n",
              "      <td>connectivity</td>\n",
              "      <td>misleading</td>\n",
              "      <td>bill</td>\n",
              "      <td>account</td>\n",
              "      <td>monopolistic</td>\n",
              "      <td>problem</td>\n",
              "      <td>email</td>\n",
              "      <td>monthly</td>\n",
              "      <td>promised</td>\n",
              "    </tr>\n",
              "    <tr>\n",
              "      <th>8</th>\n",
              "      <td>bill</td>\n",
              "      <td>time</td>\n",
              "      <td>back</td>\n",
              "      <td>slowing</td>\n",
              "      <td>charging</td>\n",
              "      <td>false</td>\n",
              "      <td>rate</td>\n",
              "      <td>equipment</td>\n",
              "      <td>incorrect</td>\n",
              "    </tr>\n",
              "    <tr>\n",
              "      <th>9</th>\n",
              "      <td>said</td>\n",
              "      <td>several</td>\n",
              "      <td>broadband</td>\n",
              "      <td>unauthorized</td>\n",
              "      <td>cramming</td>\n",
              "      <td>outage</td>\n",
              "      <td>please</td>\n",
              "      <td>increased</td>\n",
              "      <td>payment</td>\n",
              "    </tr>\n",
              "  </tbody>\n",
              "</table>\n",
              "</div>\n",
              "      <button class=\"colab-df-convert\" onclick=\"convertToInteractive('df-9b24b8f9-9f82-4b6f-85fe-682db329508b')\"\n",
              "              title=\"Convert this dataframe to an interactive table.\"\n",
              "              style=\"display:none;\">\n",
              "        \n",
              "  <svg xmlns=\"http://www.w3.org/2000/svg\" height=\"24px\"viewBox=\"0 0 24 24\"\n",
              "       width=\"24px\">\n",
              "    <path d=\"M0 0h24v24H0V0z\" fill=\"none\"/>\n",
              "    <path d=\"M18.56 5.44l.94 2.06.94-2.06 2.06-.94-2.06-.94-.94-2.06-.94 2.06-2.06.94zm-11 1L8.5 8.5l.94-2.06 2.06-.94-2.06-.94L8.5 2.5l-.94 2.06-2.06.94zm10 10l.94 2.06.94-2.06 2.06-.94-2.06-.94-.94-2.06-.94 2.06-2.06.94z\"/><path d=\"M17.41 7.96l-1.37-1.37c-.4-.4-.92-.59-1.43-.59-.52 0-1.04.2-1.43.59L10.3 9.45l-7.72 7.72c-.78.78-.78 2.05 0 2.83L4 21.41c.39.39.9.59 1.41.59.51 0 1.02-.2 1.41-.59l7.78-7.78 2.81-2.81c.8-.78.8-2.07 0-2.86zM5.41 20L4 18.59l7.72-7.72 1.47 1.35L5.41 20z\"/>\n",
              "  </svg>\n",
              "      </button>\n",
              "      \n",
              "  <style>\n",
              "    .colab-df-container {\n",
              "      display:flex;\n",
              "      flex-wrap:wrap;\n",
              "      gap: 12px;\n",
              "    }\n",
              "\n",
              "    .colab-df-convert {\n",
              "      background-color: #E8F0FE;\n",
              "      border: none;\n",
              "      border-radius: 50%;\n",
              "      cursor: pointer;\n",
              "      display: none;\n",
              "      fill: #1967D2;\n",
              "      height: 32px;\n",
              "      padding: 0 0 0 0;\n",
              "      width: 32px;\n",
              "    }\n",
              "\n",
              "    .colab-df-convert:hover {\n",
              "      background-color: #E2EBFA;\n",
              "      box-shadow: 0px 1px 2px rgba(60, 64, 67, 0.3), 0px 1px 3px 1px rgba(60, 64, 67, 0.15);\n",
              "      fill: #174EA6;\n",
              "    }\n",
              "\n",
              "    [theme=dark] .colab-df-convert {\n",
              "      background-color: #3B4455;\n",
              "      fill: #D2E3FC;\n",
              "    }\n",
              "\n",
              "    [theme=dark] .colab-df-convert:hover {\n",
              "      background-color: #434B5C;\n",
              "      box-shadow: 0px 1px 3px 1px rgba(0, 0, 0, 0.15);\n",
              "      filter: drop-shadow(0px 1px 2px rgba(0, 0, 0, 0.3));\n",
              "      fill: #FFFFFF;\n",
              "    }\n",
              "  </style>\n",
              "\n",
              "      <script>\n",
              "        const buttonEl =\n",
              "          document.querySelector('#df-9b24b8f9-9f82-4b6f-85fe-682db329508b button.colab-df-convert');\n",
              "        buttonEl.style.display =\n",
              "          google.colab.kernel.accessAllowed ? 'block' : 'none';\n",
              "\n",
              "        async function convertToInteractive(key) {\n",
              "          const element = document.querySelector('#df-9b24b8f9-9f82-4b6f-85fe-682db329508b');\n",
              "          const dataTable =\n",
              "            await google.colab.kernel.invokeFunction('convertToInteractive',\n",
              "                                                     [key], {});\n",
              "          if (!dataTable) return;\n",
              "\n",
              "          const docLinkHtml = 'Like what you see? Visit the ' +\n",
              "            '<a target=\"_blank\" href=https://colab.research.google.com/notebooks/data_table.ipynb>data table notebook</a>'\n",
              "            + ' to learn more about interactive tables.';\n",
              "          element.innerHTML = '';\n",
              "          dataTable['output_type'] = 'display_data';\n",
              "          await google.colab.output.renderOutput(dataTable, element);\n",
              "          const docLink = document.createElement('div');\n",
              "          docLink.innerHTML = docLinkHtml;\n",
              "          element.appendChild(docLink);\n",
              "        }\n",
              "      </script>\n",
              "    </div>\n",
              "  </div>\n",
              "  "
            ]
          },
          "metadata": {},
          "execution_count": 45
        }
      ],
      "source": [
        "pd.DataFrame(word_dict)"
      ]
    },
    {
      "cell_type": "markdown",
      "metadata": {
        "id": "HsXoneXtxwVL"
      },
      "source": [
        "Basics of LDA - Topic Modelling ▶\n",
        "\n",
        "<img src=\"https://drive.google.com/uc?id=1HGeJgyYHXk0qirx3WMaGAwAkirwbks8b\">\n",
        "\n",
        "Extra Reading Resource - https://www.knowledgehut.com/blog/data-science/linear-discriminant-analysis-for-machine-learning"
      ]
    },
    {
      "cell_type": "code",
      "source": [],
      "metadata": {
        "id": "xs1hIjyUjV7v"
      },
      "execution_count": null,
      "outputs": []
    }
  ],
  "metadata": {
    "colab": {
      "provenance": []
    },
    "kernelspec": {
      "display_name": "Python 3",
      "name": "python3"
    },
    "language_info": {
      "name": "python"
    }
  },
  "nbformat": 4,
  "nbformat_minor": 0
}